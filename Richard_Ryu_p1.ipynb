{
 "cells": [
  {
   "cell_type": "markdown",
   "metadata": {
    "colab_type": "text",
    "id": "z6UHmLYVhWAN"
   },
   "source": [
    "# Project 1: Digit Classification with KNN and Naive Bayes"
   ]
  },
  {
   "cell_type": "markdown",
   "metadata": {
    "colab_type": "text",
    "id": "03M_JSg3hWAO"
   },
   "source": [
    "In this project, you'll implement your own image recognition system for classifying digits. Read through the code and the instructions carefully and add your own code where indicated. Each problem can be addressed succinctly with the included packages -- please don't add any more. Grading will be based on writing clean, commented code, along with a few short answers.\n",
    "\n",
    "As always, you're welcome to work on the project in groups and discuss ideas on the course wall, but <b> please prepare your own write-up (with your own code). </b>\n",
    "\n",
    "If you're interested, check out these links related to digit recognition:\n",
    "\n",
    "* Yann Lecun's MNIST benchmarks: http://yann.lecun.com/exdb/mnist/\n",
    "* Stanford Streetview research and data: http://ufldl.stanford.edu/housenumbers/\n",
    "\n",
    "Finally, if you'd like to get started with Tensorflow, you can read through this tutorial: https://www.tensorflow.org/tutorials/keras/basic_classification. It uses a dataset called \"fashion_mnist\", which is identical in structure to the original digit mnist, but uses images of clothing rather than images of digits. The number of training examples and number of labels is the same. In fact, you can simply replace the code that loads \"fashion_mnist\" with \"mnist\" and everything should work fine."
   ]
  },
  {
   "cell_type": "code",
   "execution_count": 1,
   "metadata": {
    "colab": {},
    "colab_type": "code",
    "id": "iJ9ayCvyhWAP"
   },
   "outputs": [],
   "source": [
    "# This tells matplotlib not to try opening a new window for each plot.\n",
    "%matplotlib inline\n",
    "\n",
    "# Import a bunch of libraries.\n",
    "import time\n",
    "import numpy as np\n",
    "import matplotlib.pyplot as plt\n",
    "from matplotlib.ticker import MultipleLocator\n",
    "from sklearn.pipeline import Pipeline\n",
    "from sklearn.datasets import fetch_openml\n",
    "from sklearn.neighbors import KNeighborsClassifier\n",
    "from sklearn.metrics import confusion_matrix\n",
    "from sklearn.linear_model import LinearRegression\n",
    "from sklearn.naive_bayes import BernoulliNB\n",
    "from sklearn.naive_bayes import MultinomialNB\n",
    "from sklearn.naive_bayes import GaussianNB\n",
    "from sklearn.model_selection import GridSearchCV\n",
    "from sklearn.metrics import classification_report\n",
    "\n",
    "# Set the randomizer seed so results are the same each time.\n",
    "np.random.seed(0)"
   ]
  },
  {
   "cell_type": "markdown",
   "metadata": {
    "colab_type": "text",
    "id": "sO1t0ypThWAR"
   },
   "source": [
    "Load the data. Notice that the data gets partitioned into training, development, and test sets. Also, a small subset of the training data called mini_train_data and mini_train_labels gets defined, which you should use in all the experiments below, unless otherwise noted."
   ]
  },
  {
   "cell_type": "code",
   "execution_count": 2,
   "metadata": {
    "colab": {},
    "colab_type": "code",
    "id": "3yK9DacchWAS"
   },
   "outputs": [
    {
     "name": "stdout",
     "output_type": "stream",
     "text": [
      "data shape:  (70000, 784)\n",
      "label shape: (70000,)\n"
     ]
    }
   ],
   "source": [
    "# Load the digit data from https://www.openml.org/d/554 or from default local location '~/scikit_learn_data/...'\n",
    "X, Y = fetch_openml(name='mnist_784', return_X_y=True, cache=False)\n",
    "\n",
    "\n",
    "# Rescale grayscale values to [0,1].\n",
    "X = X / 255.0\n",
    "\n",
    "# Shuffle the input: create a random permutation of the integers between 0 and the number of data points and apply this\n",
    "# permutation to X and Y.\n",
    "# NOTE: Each time you run this cell, you'll re-shuffle the data, resulting in a different ordering.\n",
    "shuffle = np.random.permutation(np.arange(X.shape[0]))\n",
    "X, Y = X[shuffle], Y[shuffle]\n",
    "\n",
    "print('data shape: ', X.shape)\n",
    "print('label shape:', Y.shape)\n",
    "\n",
    "# Set some variables to hold test, dev, and training data.\n",
    "test_data, test_labels = X[61000:], Y[61000:]\n",
    "dev_data, dev_labels = X[60000:61000], Y[60000:61000]\n",
    "train_data, train_labels = X[:60000], Y[:60000]\n",
    "mini_train_data, mini_train_labels = X[:1000], Y[:1000]"
   ]
  },
  {
   "cell_type": "markdown",
   "metadata": {
    "colab_type": "text",
    "id": "atc2JpWKhWAV"
   },
   "source": [
    "### Part 1:\n",
    "\n",
    "Show a 10x10 grid that visualizes 10 examples of each digit.\n",
    "\n",
    "Notes:\n",
    "* You can use `plt.rc()` for setting the colormap, for example to black and white.\n",
    "* You can use `plt.subplot()` for creating subplots.\n",
    "* You can use `plt.imshow()` for rendering a matrix.\n",
    "* You can use `np.array.reshape()` for reshaping a 1D feature vector into a 2D matrix (for rendering)."
   ]
  },
  {
   "cell_type": "code",
   "execution_count": 121,
   "metadata": {
    "colab": {},
    "colab_type": "code",
    "id": "436UeH7JhWAW"
   },
   "outputs": [
    {
     "data": {
      "image/png": "[encoded data removed]",
      "text/plain": [
       "<Figure size 432x288 with 100 Axes>"
      ]
     },
     "metadata": {
      "needs_background": "light"
     },
     "output_type": "display_data"
    }
   ],
   "source": [
    "def P1(num_examples=10):\n",
    "\n",
    "### STUDENT START ###\n",
    "    # going through all the digits available\n",
    "    for i in range(0,10):\n",
    "        # setting up 10 columns\n",
    "        for j in range(0,10):\n",
    "            plt.subplot(10,10,i*10+j+1)\n",
    "            # redering and reshaping to 28x28 ,'gray'\n",
    "            plt.imshow(mini_train_data[j].reshape(28,28), cmap='gray')\n",
    "            plt.axis('off')\n",
    "\n",
    "### STUDENT END ###\n",
    "\n",
    "P1(10)"
   ]
  },
  {
   "cell_type": "markdown",
   "metadata": {
    "colab_type": "text",
    "id": "EMQAHr7QhWAX"
   },
   "source": [
    "### Part 2:\n",
    "\n",
    "Produce k-Nearest-Neighbors model with k = [1,3,5,7,9].  Evaluate and show the performance of each model. For the 1-Nearest Neighbor model, show precision, recall, and F1 for each label. Which is the most difficult digit?\n",
    "\n",
    "Notes:\n",
    "* Train on the mini train set.\n",
    "* Evaluate performance on the dev set.\n",
    "* You can use `KNeighborsClassifier` to produce a k-nearest neighbor model.\n",
    "* You can use `classification_report` to get precision, recall, and F1 results."
   ]
  },
  {
   "cell_type": "code",
   "execution_count": 50,
   "metadata": {
    "colab": {},
    "colab_type": "code",
    "id": "-it5pn8-hWAY"
   },
   "outputs": [
    {
     "name": "stdout",
     "output_type": "stream",
     "text": [
      "k = 1 accuracy = 0.884\n",
      "              precision    recall  f1-score   support\n",
      "\n",
      "           0       0.95      0.95      0.95       106\n",
      "           1       0.98      0.89      0.93       131\n",
      "           2       0.79      0.90      0.84        93\n",
      "           3       0.87      0.93      0.90        90\n",
      "           4       0.85      0.91      0.88        86\n",
      "           5       0.88      0.86      0.87        90\n",
      "           6       0.92      0.92      0.92       102\n",
      "           7       0.94      0.85      0.89       113\n",
      "           8       0.77      0.83      0.80        87\n",
      "           9       0.86      0.80      0.83       102\n",
      "\n",
      "   micro avg       0.88      0.88      0.88      1000\n",
      "   macro avg       0.88      0.88      0.88      1000\n",
      "weighted avg       0.89      0.88      0.88      1000\n",
      "\n",
      "k = 3 accuracy = 0.876\n",
      "              precision    recall  f1-score   support\n",
      "\n",
      "           0       0.96      0.94      0.95       109\n",
      "           1       0.98      0.82      0.90       141\n",
      "           2       0.78      0.90      0.84        92\n",
      "           3       0.89      0.89      0.89        97\n",
      "           4       0.88      0.84      0.86        96\n",
      "           5       0.84      0.94      0.89        79\n",
      "           6       0.91      0.91      0.91       102\n",
      "           7       0.94      0.85      0.89       113\n",
      "           8       0.74      0.85      0.80        82\n",
      "           9       0.79      0.84      0.82        89\n",
      "\n",
      "   micro avg       0.88      0.88      0.88      1000\n",
      "   macro avg       0.87      0.88      0.87      1000\n",
      "weighted avg       0.88      0.88      0.88      1000\n",
      "\n",
      "k = 5 accuracy = 0.882\n",
      "              precision    recall  f1-score   support\n",
      "\n",
      "           0       0.95      0.95      0.95       106\n",
      "           1       0.99      0.81      0.89       144\n",
      "           2       0.74      0.96      0.83        81\n",
      "           3       0.91      0.87      0.89       101\n",
      "           4       0.88      0.89      0.89        91\n",
      "           5       0.85      0.96      0.90        78\n",
      "           6       0.91      0.91      0.91       102\n",
      "           7       0.95      0.80      0.87       121\n",
      "           8       0.77      0.84      0.80        86\n",
      "           9       0.84      0.89      0.86        90\n",
      "\n",
      "   micro avg       0.88      0.88      0.88      1000\n",
      "   macro avg       0.88      0.89      0.88      1000\n",
      "weighted avg       0.89      0.88      0.88      1000\n",
      "\n",
      "k = 7 accuracy = 0.877\n",
      "              precision    recall  f1-score   support\n",
      "\n",
      "           0       0.96      0.96      0.96       106\n",
      "           1       0.99      0.80      0.89       146\n",
      "           2       0.72      0.96      0.82        79\n",
      "           3       0.91      0.86      0.88       102\n",
      "           4       0.87      0.91      0.89        88\n",
      "           5       0.84      0.96      0.90        77\n",
      "           6       0.92      0.93      0.93       101\n",
      "           7       0.94      0.80      0.86       120\n",
      "           8       0.76      0.83      0.79        86\n",
      "           9       0.83      0.83      0.83        95\n",
      "\n",
      "   micro avg       0.88      0.88      0.88      1000\n",
      "   macro avg       0.87      0.88      0.88      1000\n",
      "weighted avg       0.89      0.88      0.88      1000\n",
      "\n",
      "k = 9 accuracy = 0.875\n",
      "              precision    recall  f1-score   support\n",
      "\n",
      "           0       0.95      0.96      0.96       105\n",
      "           1       0.99      0.78      0.87       150\n",
      "           2       0.69      0.97      0.81        75\n",
      "           3       0.91      0.87      0.89       101\n",
      "           4       0.87      0.92      0.89        87\n",
      "           5       0.85      0.96      0.90        78\n",
      "           6       0.92      0.91      0.92       103\n",
      "           7       0.94      0.80      0.86       120\n",
      "           8       0.78      0.82      0.80        89\n",
      "           9       0.82      0.85      0.83        92\n",
      "\n",
      "   micro avg       0.88      0.88      0.88      1000\n",
      "   macro avg       0.87      0.88      0.87      1000\n",
      "weighted avg       0.89      0.88      0.88      1000\n",
      "\n"
     ]
    }
   ],
   "source": [
    "def P2(k_values):\n",
    "\n",
    "### STUDENT START ###\n",
    "\n",
    "# kNN model \n",
    "    # going through all k values\n",
    "    for k in k_values:\n",
    "        model = KNeighborsClassifier(n_neighbors=k)\n",
    "        #fitting the model \n",
    "        model.fit(mini_train_data, mini_train_labels)\n",
    "        test_predicted_labels = classification_report(model.predict(dev_data), dev_labels)\n",
    "        # model.score() will return mean accuracy of self.predict(X) wrt. y. OR.... dependent value\n",
    "        print(\"k =\",k, \"accuracy =\", model.score(X = dev_data, y = dev_labels))\n",
    "        print(test_predicted_labels)\n",
    "    \n",
    "### STUDENT END ###\n",
    "\n",
    "k_values = [1, 3, 5, 7, 9]\n",
    "P2(k_values)"
   ]
  },
  {
   "cell_type": "markdown",
   "metadata": {
    "colab_type": "text",
    "id": "tZc9gzn5hWAZ"
   },
   "source": [
    "**ANSWER:** Based on reviewing the the precision, recall, F1 score of all the outputs, numerical digits 8 and 2 had the most difficulty. In terms of accuracy, k=1 had the highest value with 0.884 and k=5 had the next highest accuracy with 0.882."
   ]
  },
  {
   "cell_type": "markdown",
   "metadata": {
    "colab_type": "text",
    "id": "7b6YEAzzhWAa"
   },
   "source": [
    "### Part 3:\n",
    "\n",
    "Produce 1-Nearest Neighbor models using training data of various sizes.  Evaluate and show the performance of each model.  Additionally, show the time needed to measure the performance of each model.\n",
    "\n",
    "Notes:\n",
    "* Train on the train set.\n",
    "* Evaluate on the dev set.\n",
    "* You can use `KNeighborsClassifier` to produce a k-nearest neighbor model.\n",
    "* You can use `time.time()` to measure elapsed time of operations."
   ]
  },
  {
   "cell_type": "code",
   "execution_count": 127,
   "metadata": {
    "colab": {},
    "colab_type": "code",
    "id": "gEpNzDEjhWAa"
   },
   "outputs": [
    {
     "name": "stdout",
     "output_type": "stream",
     "text": [
      "size = 100 accuracy = 0.702 time = 0.06983709335327148\n",
      "size = 200 accuracy = 0.791 time = 0.005082130432128906\n",
      "size = 400 accuracy = 0.811 time = 0.007892847061157227\n",
      "size = 800 accuracy = 0.866 time = 0.023389816284179688\n",
      "size = 1600 accuracy = 0.905 time = 0.04268312454223633\n",
      "size = 3200 accuracy = 0.927 time = 0.11640501022338867\n",
      "size = 6400 accuracy = 0.939 time = 0.33631086349487305\n",
      "size = 12800 accuracy = 0.952 time = 1.2813520431518555\n",
      "size = 25600 accuracy = 0.963 time = 7.049731254577637\n"
     ]
    }
   ],
   "source": [
    "def P3(train_sizes):\n",
    "\n",
    "### STUDENT START ###\n",
    "    model = KNeighborsClassifier(n_neighbors=1)\n",
    "    for i in train_sizes:\n",
    "        #fitting the model \n",
    "        begin = time.time()\n",
    "        model.fit(train_data[:i], train_labels[:i])\n",
    "        end = time.time()\n",
    "        score = model.score(X = dev_data, y = dev_labels)\n",
    "        print(\"size =\",i, \"accuracy =\", score, \"time =\", end-begin)\n",
    "\n",
    "### STUDENT END ###\n",
    "\n",
    "train_sizes = [100, 200, 400, 800, 1600, 3200, 6400, 12800, 25600]\n",
    "P3(train_sizes)"
   ]
  },
  {
   "cell_type": "markdown",
   "metadata": {
    "colab_type": "text",
    "id": "B56lVsKNhWAc"
   },
   "source": [
    "### Part 4:\n",
    "\n",
    "Produce a regression model that predicts accuracy of a 1-Nearest Neighbor model given training set size. Show $R^2$ of the regression model and the accuracies it predicts for training set sizes 60000, 120000, and 1000000.  Show a lineplot of the actual accuracies and predicted accuracies vs. training set size.  What's wrong with using regression here?\n",
    "\n",
    "Apply some transformation that makes the predictions more reasonable.  Show $R^2$ of the improved regression model and the accuracies it predicts for training set sizes 60000, 120000, and 1000000.  Show a lineplot of the actual accuracies and predicted accuracies vs. training set size.\n",
    "\n",
    "Notes:\n",
    "* Train the regression models on all of the (transformed) accuracies estimated in Problem 3.\n",
    "* Evaluate the regression models on all of the (transformed) accuracies estimated in Problem 3.\n",
    "* You can use `LinearRegression` to produce a linear regression model.\n",
    "* Remember that the sklearn `fit()` functions take an input matrix X and output vector Y. So, each input example in X is a vector, even if it contains only a single value."
   ]
  },
  {
   "cell_type": "code",
   "execution_count": 129,
   "metadata": {},
   "outputs": [],
   "source": [
    "# since I didn't use accuracy in problem 2, I had to re-write the P3 function to append accuracy in accuracies.\n",
    "def P3b(train_sizes, accuracies):\n",
    "    model = KNeighborsClassifier(n_neighbors=1)\n",
    "    for i in train_sizes:\n",
    "        #fitting the model \n",
    "        model.fit(train_data[:i], train_labels[:i])\n",
    "        accuracy = round(np.sum(model.predict(dev_data)==dev_labels)/1000,2)\n",
    "        accuracies.append(accuracy)\n",
    "\n",
    "train_sizes = [100, 200, 400, 800, 1600, 3200, 6400, 12800, 25600]\n",
    "accuracies = []\n",
    "P3b(train_sizes, accuracies)"
   ]
  },
  {
   "cell_type": "code",
   "execution_count": 213,
   "metadata": {
    "colab": {},
    "colab_type": "code",
    "id": "4xE_qIJghWAc"
   },
   "outputs": [
    {
     "name": "stdout",
     "output_type": "stream",
     "text": [
      "Score for 60000 size :  1.230114694617253 \n",
      "\n",
      "Score for 120000 size :  1.6254142141372296 \n",
      "\n",
      "Score for 1000000 size :  7.423140500430221 \n",
      "\n"
     ]
    },
    {
     "data": {
      "image/png": "[encoded data removed]",
      "text/plain": [
       "<Figure size 432x288 with 1 Axes>"
      ]
     },
     "metadata": {
      "needs_background": "light"
     },
     "output_type": "display_data"
    }
   ],
   "source": [
    "def P4():\n",
    "\n",
    "### STUDENT START ###\n",
    "    # using train_sizes from P3\n",
    "    scale_train = np.asarray(train_sizes).reshape(-1,1)\n",
    "    # using accuracies from P3b\n",
    "    scale_accuracy = np.asarray(accuracies).reshape(-1,1)\n",
    "    reg = LinearRegression()\n",
    "    reg.fit(scale_train, scale_accuracy)\n",
    "    for i in (60000, 120000, 1000000):\n",
    "        outcome = reg.predict([[i]])\n",
    "        print(\"Score for\", i, \"size : \", outcome[0][0],\"\\n\")\n",
    "        plt.scatter(scale_train, scale_accuracy, color='blue')\n",
    "        plt.plot(scale_train, reg.predict(scale_train), color='red', linewidth=3)\n",
    "        plt.title(\"Regression plot\")\n",
    "    \n",
    "### STUDENT END ###\n",
    "\n",
    "P4()"
   ]
  },
  {
   "cell_type": "code",
   "execution_count": 212,
   "metadata": {
    "scrolled": true
   },
   "outputs": [
    {
     "name": "stdout",
     "output_type": "stream",
     "text": [
      "Accuracy for 60000 size :  1.032572662064096 \n",
      "\n",
      "Accuracy for 120000 size :  1.0632393287307627 \n",
      "\n",
      "Accuracy for 1000000 size :  1.1570454018617387 \n",
      "\n"
     ]
    },
    {
     "data": {
      "image/png": "[encoded data removed]",
      "text/plain": [
       "<Figure size 432x288 with 1 Axes>"
      ]
     },
     "metadata": {
      "needs_background": "light"
     },
     "output_type": "display_data"
    }
   ],
   "source": [
    "# Applying log transfomration to the train_sizes\n",
    "def P4b():\n",
    "\n",
    "### STUDENT START ###\n",
    "    # applying log to train_sizes from P3\n",
    "    log_train_sizes = np.log(train_sizes)\n",
    "    log_scale_train = np.asarray(log_train_sizes).reshape(-1,1)\n",
    "    # using accuracies from P3b\n",
    "    scale_accuracy = np.asarray(accuracies).reshape(-1,1)\n",
    "    log_reg = LinearRegression()\n",
    "    log_reg.fit(log_scale_train, scale_accuracy)\n",
    "    for i in (60000, 120000, 1000000):\n",
    "        log_outcome = log_reg.predict([[np.log(i)]])\n",
    "        print(\"Accuracy for\", i, \"size : \", log_outcome[0][0],\"\\n\")\n",
    "        plt.scatter(log_scale_train, scale_accuracy, color='blue')\n",
    "        plt.plot(log_scale_train, log_reg.predict(log_scale_train), color='red', linewidth=3)\n",
    "        plt.title(\"Regression plot with log transformation\")\n",
    "    \n",
    "### STUDENT END ###\n",
    "\n",
    "P4b()"
   ]
  },
  {
   "cell_type": "markdown",
   "metadata": {
    "colab_type": "text",
    "id": "HYYYL9cGhWAe"
   },
   "source": [
    "**ANSWER:**\n",
    "\n",
    "Running linear regression on 60k sample size returned around ~123% accuracy, which seems impossible. The accuracy only goes up as we increase the sample size. Most likely, this is an issue with the fit of the underlying data. To be explicit, the model does not know that 1.00 is the max value of the regression's dependent and the scale of x and y is drastically different. One of the most popular method to address this issue is to take the log of the problematic data, X. \n",
    "\n",
    "Applying the log transformation to the X did look better and the accuracy for the 60,000 size was closer to 100% (~103%). There will be other transformations like log-log, inverse-log, and square root that might be able to generate the desired output of < 100% accuracy."
   ]
  },
  {
   "cell_type": "markdown",
   "metadata": {
    "colab_type": "text",
    "id": "geAQJjGRhWAe"
   },
   "source": [
    "### Part 5:\n",
    "\n",
    "Produce a 1-Nearest Neighbor model and show the confusion matrix. Which pair of digits does the model confuse most often? Show the images of these most often confused digits.\n",
    "\n",
    "Notes:\n",
    "- Train on the mini train set.\n",
    "- Evaluate performance on the dev set.\n",
    "- You can use `confusion_matrix()` to produce a confusion matrix."
   ]
  },
  {
   "cell_type": "code",
   "execution_count": 22,
   "metadata": {
    "colab": {},
    "colab_type": "code",
    "id": "Bq36xaQohWAf",
    "scrolled": true
   },
   "outputs": [
    {
     "name": "stdout",
     "output_type": "stream",
     "text": [
      "Confusion Matrix: \n",
      " [[101   0   1   0   0   0   1   1   2   0]\n",
      " [  0 116   1   0   0   0   0   0   1   0]\n",
      " [  1   4  84   2   2   0   2   4   6   1]\n",
      " [  0   2   0  84   0   6   0   2   3   0]\n",
      " [  0   0   1   0  78   0   0   2   0  11]\n",
      " [  2   0   0   1   1  77   5   0   2   0]\n",
      " [  1   2   1   0   1   2  94   0   1   0]\n",
      " [  0   1   1   0   0   0   0  96   0   4]\n",
      " [  1   5   4   3   1   3   0   1  72   4]\n",
      " [  0   1   0   0   3   2   0   7   0  82]]\n"
     ]
    },
    {
     "data": {
      "image/png": "[encoded data removed]",
      "text/plain": [
       "<Figure size 432x288 with 25 Axes>"
      ]
     },
     "metadata": {
      "needs_background": "light"
     },
     "output_type": "display_data"
    }
   ],
   "source": [
    "def P5():\n",
    "\n",
    "### STUDENT START ###\n",
    "    model = KNeighborsClassifier(n_neighbors=1)\n",
    "    model.fit(mini_train_data, mini_train_labels)\n",
    "    # evaluating performance with dev_data/dev_labels in confusion_matrix\n",
    "    print(\"Confusion Matrix: \\n\",confusion_matrix(dev_labels, model.predict(dev_data)))\n",
    "    # displaying images of incorrect digits\n",
    "    counter = 1\n",
    "    for i in np.where(mini_train_labels != model.predict(dev_data))[0]:\n",
    "        plt.subplot(5,5,counter)\n",
    "        plt.imshow(mini_train_data[i].reshape(28,28), cmap='gray')\n",
    "        plt.axis('off')\n",
    "        if counter >= 25:\n",
    "            break\n",
    "        counter += 1\n",
    "    plt.show()\n",
    "### STUDENT END ###\n",
    "P5()"
   ]
  },
  {
   "cell_type": "markdown",
   "metadata": {},
   "source": [
    "**ANSWER:** Based on the confusion matrix, the algorithm confused 4 with 9 the most (11 times) and then 9 with 7 (7 times) 2nd most times."
   ]
  },
  {
   "cell_type": "markdown",
   "metadata": {
    "colab_type": "text",
    "id": "tgqMKb-hhWAh"
   },
   "source": [
    "### Part 6:\n",
    "\n",
    "A common image processing technique is to smooth an image by blurring. The idea is that the value of a particular pixel is estimated as the weighted combination of the original value and the values around it. Typically, the blurring is Gaussian, i.e., the weight of a pixel's influence is determined by a Gaussian function over the distance to the relevant pixel.\n",
    "\n",
    "Implement a simplified Gaussian blur by just using the 8 neighboring pixels like this: the smoothed value of a pixel is a weighted combination of the original value and the 8 neighboring values.\n",
    "\n",
    "Apply your blur filter in 3 ways:\n",
    "- Filter the training data but not the dev data\n",
    "- Filter the dev data but not the training data\n",
    "- Filter both training data and dev data\n",
    "\n",
    "Show the accuracy resulting no filter and from each way you apply the filter.\n",
    "\n",
    "Notes:\n",
    "* Train on the (filtered) mini train set.\n",
    "* Evaluate performance on the (filtered) dev set.\n",
    "* There are Guassian blur filters available, for example in `scipy.ndimage.filters`. You are welcome to experiment with those, but you are likely to get the best results with the simplified version described above."
   ]
  },
  {
   "cell_type": "code",
   "execution_count": null,
   "metadata": {
    "colab": {},
    "colab_type": "code",
    "id": "lSKHmHGshWAi"
   },
   "outputs": [],
   "source": [
    "#def P6():\n",
    "    \n",
    "### STUDENT START ###\n",
    "Implementation of the code failed, therefore I will pseudocode this for partial credit...\n",
    "\n",
    "1. create a function to Break each digit image into 28 x 28 \n",
    "\n",
    "2. second function to re-arrange the pixel values into desired array format\n",
    "\n",
    "3. third function to apply Gaussian kernel weights to the pixel values from 8 neighboring pixels and generate the blurred images\n",
    "\n",
    "4. Apply this in 3 different ways mentioned above ( mini_train_data and dev_data )\n",
    "\n",
    "5. run the models to show accuracy\n",
    "\n",
    "### STUDENT END ###\n",
    "\n",
    "#P6()"
   ]
  },
  {
   "cell_type": "markdown",
   "metadata": {
    "colab_type": "text",
    "id": "LtgepWfAhWAk"
   },
   "source": [
    "### Part 7:\n",
    "\n",
    "Produce two Naive Bayes models and evaluate their performances.  Recall that Naive Bayes estimates P(feature|label), where each label is a categorical, not a real number.\n",
    "\n",
    "For the first model, map pixel values to either 0 or 1, representing white or black - you should pre-process the data or use `BernoulliNB`'s `binarize` parameter.  Use some reasonable threshold to separate white from black.  Use `BernoulliNB` to produce the model.\n",
    "\n",
    "For the second model, map pixel values to either 0, 1, or 2, representing white, gray, or black - you should pre-process the data.  Use some reasonable thresholds to separate white from gray from black.  Use `MultinomialNB` to produce the model. \n",
    "\n",
    "Show the Bernoulli model accuracy and the Multinomial model accuracy.\n",
    "\n",
    "Notes:\n",
    "* Train on the mini train set.\n",
    "* Evaluate performance on the dev set.\n",
    "* `sklearn`'s Naive Bayes methods can handle real numbers, but for this exercise explicitly do the mapping to categoricals. \n",
    "\n",
    "Does the multinomial version improve the results? Why or why not?"
   ]
  },
  {
   "cell_type": "code",
   "execution_count": 43,
   "metadata": {
    "colab": {},
    "colab_type": "code",
    "id": "eGpH-4IQhWAk"
   },
   "outputs": [
    {
     "name": "stdout",
     "output_type": "stream",
     "text": [
      "Bernoulli Accuracy:  0.819\n",
      "Multinomial Accuracy:  0.797\n"
     ]
    }
   ],
   "source": [
    "def P7():\n",
    "\n",
    "### STUDENT START ###\n",
    "    # Bernoulli, train on mini and evaluate on dev\n",
    "    first_model = BernoulliNB(binarize=0.5)\n",
    "    first_model.fit(mini_train_data, mini_train_labels)\n",
    "    result_fm = first_model.score(X = dev_data, y = dev_labels)\n",
    "    print(\"Bernoulli Accuracy: \", result_fm)\n",
    "\n",
    "    # Multinomial, train on mini and evaluate on dev\n",
    "    ## manual data pre-processing for 0, 1, 2 (white, gray, black)\n",
    "    wgb = np.array(mini_train_data)\n",
    "    wgb[(wgb > 0) & (wgb <= 0.35)] = 1\n",
    "    wgb[(wgb > 0.35) & (wgb < 1)] = 2\n",
    "    second_model = MultinomialNB()\n",
    "    second_model.fit(wgb, mini_train_labels)\n",
    "    result_sm = second_model.score(X = dev_data, y = dev_labels)\n",
    "    print(\"Multinomial Accuracy: \", result_sm)\n",
    "    \n",
    "### STUDENT END ###\n",
    "\n",
    "P7()"
   ]
  },
  {
   "cell_type": "markdown",
   "metadata": {
    "colab_type": "text",
    "id": "zNLrgggohWAm"
   },
   "source": [
    "**ANSWER:**\n",
    "The multinomial version does not improve performance over the binomial version, when evaluated against the development dataset. To explain why in layman's terms, predicting whether there's ink or not in a given space is much easier than predicting whether there's ink or not, plus whether the ink is black or grey. This is more evident as I manually experiment the ranges of 0,1, and 2 as the accuracy of multinomial model doesn't go above ~0.800. Some possible explanations could be the vague color difference between black and gray. To be specific, the distinction between black and gray is vague and can lead to loss of fidelity. Similar to the accuracy examples of our knn models, overfit models do not perform well against Bernoulli models or simple models."
   ]
  },
  {
   "cell_type": "markdown",
   "metadata": {
    "colab_type": "text",
    "id": "PqjbRLg7hWAm"
   },
   "source": [
    "### Part 8:\n",
    "\n",
    "Search across several values for the LaPlace smoothing parameter (alpha) to find its effect on a Bernoulli Naive Bayes model's performance.  Show the accuracy at each alpha value.\n",
    "\n",
    "Notes:\n",
    "* Train on the mini train set.\n",
    "* Vary alpha and evaulate performance using `GridSearchCV` to cross-validate.\n",
    "* Cross-validation is based on partitions of the training data, so results will be a bit different than if you used the dev set to evaluate performance.\n",
    "\n",
    "What is the best value for alpha? What is the accuracy when alpha is near 0? Is this what you'd expect?"
   ]
  },
  {
   "cell_type": "code",
   "execution_count": 77,
   "metadata": {
    "colab": {},
    "colab_type": "code",
    "id": "0AvZ-Wp3hWAn"
   },
   "outputs": [
    {
     "name": "stderr",
     "output_type": "stream",
     "text": [
      "/Users/richardryu/anaconda3/lib/python3.7/site-packages/sklearn/model_selection/_split.py:2053: FutureWarning: You should specify a value for 'cv' instead of relying on the default value. The default value will change from 3 to 5 in version 0.22.\n",
      "  warnings.warn(CV_WARNING, FutureWarning)\n"
     ]
    },
    {
     "name": "stdout",
     "output_type": "stream",
     "text": [
      "\n",
      " Best alpha =  {'alpha': 0.001} \n",
      " Best score =  0.827\n"
     ]
    }
   ],
   "source": [
    "def P8(alphas):\n",
    "\n",
    "### STUDENT START ###\n",
    "    first_model = BernoulliNB(binarize = 0.5)\n",
    "    first_model.fit(mini_train_data, mini_train_labels)\n",
    "    grid = GridSearchCV(estimator = first_model, param_grid = alphas)\n",
    "    grid.fit(mini_train_data, mini_train_labels)\n",
    "    return grid\n",
    "\n",
    "### STUDENT END ###\n",
    "\n",
    "alphas = {'alpha': [1.0e-10, 0.0001, 0.001, 0.01, 0.1, 0.5, 1.0, 2.0, 10.0]}\n",
    "nb = P8(alphas)\n",
    "print(\"\\n Best alpha = \", nb.best_params_, \"\\n Best score = \", nb.best_score_)"
   ]
  },
  {
   "cell_type": "code",
   "execution_count": 89,
   "metadata": {},
   "outputs": [
    {
     "name": "stdout",
     "output_type": "stream",
     "text": [
      "Accuracy of Alpha near 0:  0.815\n"
     ]
    }
   ],
   "source": [
    "# Manually calculating the score of alpha near 0\n",
    "def P8b():\n",
    "    zero_alpha = BernoulliNB(alpha = 1.0e-10, binarize = 0.5)\n",
    "    zero_alpha.fit(mini_train_data, mini_train_labels)\n",
    "    zero_score = zero_alpha.score(X = dev_data, y = dev_labels)    \n",
    "    print(\"Accuracy of Alpha near 0: \", zero_score)\n",
    "P8b()"
   ]
  },
  {
   "cell_type": "markdown",
   "metadata": {
    "colab_type": "text",
    "id": "1yEg9keThWAp"
   },
   "source": [
    "**ANSWER:**\n",
    "\n",
    "When alpha was near 0, the accuracy was around 81.5%. I did expect the accuracy to go down since applying a smoothing parameter, also known as alpha, of zero is basically not applying any smoothing at all. "
   ]
  },
  {
   "cell_type": "markdown",
   "metadata": {
    "colab_type": "text",
    "id": "B07GDiDdhWAq"
   },
   "source": [
    "### Part 9:\n",
    "\n",
    "Produce a model using Guassian Naive Bayes, which is intended for real-valued features, and evaluate performance. You will notice that it does not work so well. Diagnose the problem and apply a simple fix so that the model accuracy is around the same as for a Bernoulli Naive Bayes model. Show the model accuracy before your fix and the model accuracy after your fix.  Explain your solution.\n",
    "\n",
    "Notes:\n",
    "* Train on the mini train set.\n",
    "* Evaluate performance on the dev set.\n",
    "* Consider the effects of theta and sigma.  These are stored in the model's `theta_` and `sigma_` attributes."
   ]
  },
  {
   "cell_type": "code",
   "execution_count": 109,
   "metadata": {
    "colab": {},
    "colab_type": "code",
    "id": "gBLbTMWChWAq",
    "scrolled": true
   },
   "outputs": [
    {
     "name": "stdout",
     "output_type": "stream",
     "text": [
      "0.593\n",
      "              precision    recall  f1-score   support\n",
      "\n",
      "           0       0.88      0.75      0.81       124\n",
      "           1       0.81      0.87      0.84       110\n",
      "           2       0.44      0.59      0.51        79\n",
      "           3       0.29      0.64      0.40        44\n",
      "           4       0.32      0.78      0.45        37\n",
      "           5       0.67      0.30      0.41       199\n",
      "           6       0.85      0.74      0.79       118\n",
      "           7       0.57      0.92      0.70        63\n",
      "           8       0.11      0.38      0.17        26\n",
      "           9       0.91      0.43      0.58       200\n",
      "\n",
      "   micro avg       0.59      0.59      0.59      1000\n",
      "   macro avg       0.58      0.64      0.57      1000\n",
      "weighted avg       0.71      0.59      0.61      1000\n",
      "\n",
      "0.801\n",
      "              precision    recall  f1-score   support\n",
      "\n",
      "           0       0.76      0.98      0.86        83\n",
      "           1       0.96      0.85      0.90       133\n",
      "           2       0.72      0.84      0.78        90\n",
      "           3       0.77      0.81      0.79        93\n",
      "           4       0.99      0.64      0.78       142\n",
      "           5       0.84      0.65      0.73       114\n",
      "           6       0.83      0.93      0.88        91\n",
      "           7       0.90      0.81      0.86       113\n",
      "           8       0.60      0.75      0.66        75\n",
      "           9       0.61      0.88      0.72        66\n",
      "\n",
      "   micro avg       0.80      0.80      0.80      1000\n",
      "   macro avg       0.80      0.81      0.80      1000\n",
      "weighted avg       0.83      0.80      0.80      1000\n",
      "\n"
     ]
    }
   ],
   "source": [
    "def P9():\n",
    "\n",
    "### STUDENT END ###\n",
    "    model_gnb = GaussianNB()\n",
    "    model_gnb.fit(mini_train_data, mini_train_labels)\n",
    "    dev_pred = model_gnb.predict(dev_data)\n",
    "    first_score = model_gnb.score(dev_data, y = dev_labels)\n",
    "    first_result = classification_report(dev_pred, dev_labels)\n",
    "    print(first_score)\n",
    "    print(first_result)\n",
    "    \n",
    "    # manually modifying theta and sigma values (hacking)\n",
    "    model_gnb_fix = GaussianNB()\n",
    "    model_gnb_fix.fit(mini_train_data, mini_train_labels)\n",
    "    model_gnb_fix.theta_ = model_gnb_fix.theta_ + 0.25\n",
    "    model_gnb_fix.sigma_ = model_gnb_fix.sigma_ + 0.025\n",
    "    dev_pred_fix = model_gnb_fix.predict(dev_data)\n",
    "    first_fix_score = model_gnb_fix.score(dev_data, y = dev_labels)\n",
    "    first_fix_result = classification_report(dev_pred_fix, dev_labels)\n",
    "    print(first_fix_score)\n",
    "    print(first_fix_result)\n",
    "\n",
    "### STUDENT END ###\n",
    "\n",
    "P9()\n"
   ]
  },
  {
   "cell_type": "markdown",
   "metadata": {
    "colab_type": "text",
    "id": "1SyHTEJohWAt"
   },
   "source": [
    "**ANSWER:**\n",
    "Applying the Gaussian Naive Bayes to a non-normally distributed dataset generated a very poor score of 0.593. Part of this can be explained by the fact that overfitting occurred when the model was trained on non-normal data with low variance. Part of the solution was to modify the parameters of theta_ and sigma_ manually. After examining the current theta_ and sigma_ values of the GaussianNB model, I've manually added 0.25 to theta_ and 0.025 to sigma_. Doing so resulted in a model score of 0.801 which were similar to the score ranges of the BernoulliNB models."
   ]
  },
  {
   "cell_type": "markdown",
   "metadata": {
    "colab_type": "text",
    "id": "dgZMuc1VhWAt"
   },
   "source": [
    "### Part 10:\n",
    "\n",
    "Because Naive Bayes produces a generative model, you can use it to generate digit images.\n",
    "\n",
    "Produce a Bernoulli Naive Bayes model and then use it to generate a 10x20 grid with 20 example images of each digit. Each pixel output should be either 0 or 1, based on comparing some randomly generated number to the estimated probability of the pixel being either 0 or 1.  Show the grid.\n",
    "\n",
    "Notes:\n",
    "* You can use np.random.rand() to generate random numbers from a uniform distribution.\n",
    "* The estimated probability of each pixel being 0 or 1 is stored in the model's `feature_log_prob_` attribute. You can use `np.exp()` to convert a log probability back to a probability.\n",
    "\n",
    "How do the generated digit images compare to the training digit images?"
   ]
  },
  {
   "cell_type": "code",
   "execution_count": 119,
   "metadata": {
    "colab": {},
    "colab_type": "code",
    "id": "ktii-Mp-hWAu"
   },
   "outputs": [
    {
     "data": {
      "image/png": "[encoded data removed]",
      "text/plain": [
       "<Figure size 432x288 with 190 Axes>"
      ]
     },
     "metadata": {
      "needs_background": "light"
     },
     "output_type": "display_data"
    }
   ],
   "source": [
    "def P10(num_examples):\n",
    "\n",
    "### STUDENT START ###\n",
    "    bnb_10 = BernoulliNB()\n",
    "    bnb_10.fit(mini_train_data, mini_train_labels)\n",
    "\n",
    "    prob = bnb_10.feature_log_prob_\n",
    "\n",
    "    for i in range(0,10):\n",
    "        # setting up 10 columns\n",
    "        for j in range(1,20):\n",
    "            transform_loop = np.exp(prob)[i] > np.random.rand(28 * 28)\n",
    "            plt.subplot(10,num_examples,i*num_examples+j)\n",
    "            # redering and reshaping to 28x28 ,'gray'\n",
    "            plt.imshow(transform_loop.reshape(28,28), cmap='gray')\n",
    "            plt.axis('off')\n",
    "\n",
    "### STUDENT END ###\n",
    "\n",
    "P10(20)"
   ]
  },
  {
   "cell_type": "code",
   "execution_count": 122,
   "metadata": {},
   "outputs": [
    {
     "data": {
      "image/png": "[encoded data removed]",
      "text/plain": [
       "<Figure size 432x288 with 100 Axes>"
      ]
     },
     "metadata": {
      "needs_background": "light"
     },
     "output_type": "display_data"
    }
   ],
   "source": [
    "P1(10)"
   ]
  },
  {
   "cell_type": "markdown",
   "metadata": {
    "colab_type": "text",
    "id": "SuQd1fTGhWAw"
   },
   "source": [
    "**ANSWER:**\n",
    "I've also included the digit images from part 1 for reference. Based on the two outputs, the digit images in Bernoulli Naive Bayes are not clear and seem to have holes, which almost looks like blurring. One possible explanation for this is the fact that BernoulliNB re-classified the gray pixels as either black or white (0, 1) which is causing the full 28x28 pixel image to look porous from the distance. "
   ]
  },
  {
   "cell_type": "markdown",
   "metadata": {
    "colab_type": "text",
    "id": "ksHMg73uhWAx"
   },
   "source": [
    "### Part 11:\n",
    "\n",
    "Recall that a strongly calibrated classifier is rougly 90% accurate when the posterior probability of the predicted class is 0.9. A weakly calibrated classifier is more accurate when the posterior probability of the predicted class is 90% than when it is 80%. A poorly calibrated classifier has no positive correlation between posterior probability and accuracy.  \n",
    "\n",
    "Produce a Bernoulli Naive Bayes model.  Evaluate performance: partition the dev set into several buckets based on the posterior probabilities of the predicted classes - think of a bin in a histogram- and then estimate the accuracy for each bucket. So, for each prediction, find the bucket to which the maximum posterior probability belongs, and update \"correct\" and \"total\" counters accordingly.  Show the accuracy for each bucket.\n",
    "\n",
    "Notes:\n",
    "* Train on the mini train set.\n",
    "* Evaluate perfromance on the dev set.\n",
    "* Apply a reasonable Laplace smoothing (alpha) value.\n",
    "\n",
    "How would you characterize the calibration for this Bernoulli Naive Bayes model?"
   ]
  },
  {
   "cell_type": "code",
   "execution_count": 123,
   "metadata": {
    "colab": {},
    "colab_type": "code",
    "id": "a1N-St12hWAy"
   },
   "outputs": [
    {
     "name": "stdout",
     "output_type": "stream",
     "text": [
      "p(pred) is 0.0000000000000 to 0.5000000000000    total =   0    accuracy = 0.000\n",
      "p(pred) is 0.5000000000000 to 0.9000000000000    total =   0    accuracy = 0.000\n",
      "p(pred) is 0.9000000000000 to 0.9990000000000    total =   0    accuracy = 0.000\n",
      "p(pred) is 0.9990000000000 to 0.9999900000000    total =   0    accuracy = 0.000\n",
      "p(pred) is 0.9999900000000 to 0.9999999000000    total =   0    accuracy = 0.000\n",
      "p(pred) is 0.9999999000000 to 0.9999999990000    total =   0    accuracy = 0.000\n",
      "p(pred) is 0.9999999990000 to 0.9999999999900    total =   0    accuracy = 0.000\n",
      "p(pred) is 0.9999999999900 to 0.9999999999999    total =   0    accuracy = 0.000\n",
      "p(pred) is 0.9999999999999 to 1.0000000000000    total =   0    accuracy = 0.000\n"
     ]
    }
   ],
   "source": [
    "def P11(buckets, correct, total):\n",
    "    \n",
    "### STUDENT START ###\n",
    "    first_model = BernoulliNB(alpha = 1.0e-10, binarize = 0.5)\n",
    "    first_model.fit(mini_train_data, mini_train_labels)\n",
    "    first_dev = first_model.predict(dev_data)\n",
    "    first_pred = first_model.predict_proba(dev_data)\n",
    "    for j in range(len(first_pred)):\n",
    "        observe = first_pred[x][int(first_dev)]\n",
    "        for i in range(1,8):\n",
    "        \n",
    "\n",
    "                \n",
    "### STUDENT END ###\n",
    "\n",
    "buckets = [0.5, 0.9, 0.999, 0.99999, 0.9999999, 0.999999999, 0.99999999999, 0.9999999999999, 1.0]\n",
    "correct = [0 for i in buckets]\n",
    "total = [0 for i in buckets]\n",
    "\n",
    "P11(buckets, correct, total)\n",
    "\n",
    "for i in range(len(buckets)):\n",
    "    accuracy = 0.0\n",
    "    if (total[i] > 0): accuracy = correct[i] / total[i]\n",
    "    print('p(pred) is %.13f to %.13f    total = %3d    accuracy = %.3f' % (0 if i==0 else buckets[i-1], buckets[i], total[i], accuracy))"
   ]
  },
  {
   "cell_type": "markdown",
   "metadata": {
    "colab_type": "text",
    "id": "h-4qQsrrhWA1"
   },
   "source": [
    "ANSWER: I ran out of time on this one... "
   ]
  },
  {
   "cell_type": "markdown",
   "metadata": {
    "colab_type": "text",
    "id": "jLDISyh4hWA1"
   },
   "source": [
    "### Part 12 EXTRA CREDIT:\n",
    "\n",
    "Design new features to see if you can produce a Bernoulli Naive Bayes model with better performance.  Show the accuracy of a model based on the original features and the accuracy of the model based on the new features.\n",
    "\n",
    "Here are a few ideas to get you started:\n",
    "- Try summing or averaging the pixel values in each row.\n",
    "- Try summing or averaging the pixel values in each column.\n",
    "- Try summing or averaging the pixel values in each square block. (pick various block sizes)\n",
    "- Try counting the number of enclosed regions. (8 usually has 2 enclosed regions, 9 usually has 1, and 7 usually has 0)\n",
    "\n",
    "Notes:\n",
    "* Train on the mini train set (enhanced to comprise the new features).\n",
    "* Evaulate performance on the dev set.\n",
    "* Ensure that your code is well commented."
   ]
  },
  {
   "cell_type": "code",
   "execution_count": null,
   "metadata": {
    "colab": {},
    "colab_type": "code",
    "id": "-P7h-t2ThWA2"
   },
   "outputs": [],
   "source": [
    "#def P12():\n",
    "\n",
    "### STUDENT START ###\n",
    "\n",
    "\n",
    "### STUDENT END ###\n",
    "\n",
    "#P12()"
   ]
  }
 ],
 "metadata": {
  "colab": {
   "name": "firstname_lastname_p1.ipynb",
   "private_outputs": true,
   "provenance": [
    {
     "file_id": "https://github.com/MIDS-W207/Master/blob/master/Projects/firstname_lastname_p1.ipynb",
     "timestamp": 1557957807607
    }
   ],
   "version": "0.3.2"
  },
  "kernelspec": {
   "display_name": "Python 3",
   "language": "python",
   "name": "python3"
  },
  "language_info": {
   "codemirror_mode": {
    "name": "ipython",
    "version": 3
   },
   "file_extension": ".py",
   "mimetype": "text/x-python",
   "name": "python",
   "nbconvert_exporter": "python",
   "pygments_lexer": "ipython3",
   "version": "3.7.3"
  },
  "toc": {
   "base_numbering": 1,
   "nav_menu": {},
   "number_sections": false,
   "sideBar": true,
   "skip_h1_title": true,
   "title_cell": "Table of Contents",
   "title_sidebar": "Contents",
   "toc_cell": false,
   "toc_position": {},
   "toc_section_display": true,
   "toc_window_display": false
  }
 },
 "nbformat": 4,
 "nbformat_minor": 1
}
