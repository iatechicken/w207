{
 "cells": [
  {
   "cell_type": "markdown",
   "metadata": {
    "colab_type": "text",
    "id": "6t55qCf3Fsxa"
   },
   "source": [
    "# Project 2: Topic Classification"
   ]
  },
  {
   "cell_type": "markdown",
   "metadata": {
    "colab_type": "text",
    "id": "j9-9G8z4Fsxd"
   },
   "source": [
    "In this project, you'll work with text data from newsgroup postings on a variety of topics. You'll train classifiers to distinguish between the topics based on the text of the posts. Whereas with digit classification, the input is relatively dense: a 28x28 matrix of pixels, many of which are non-zero, here we'll represent each document with a \"bag-of-words\" model. As you'll see, this makes the feature representation quite sparse -- only a few words of the total vocabulary are active in any given document. The bag-of-words assumption here is that the label depends only on the words; their order is not important.\n",
    "\n",
    "The SK-learn documentation on feature extraction will prove useful:\n",
    "http://scikit-learn.org/stable/modules/feature_extraction.html\n",
    "\n",
    "Each problem can be addressed succinctly with the included packages -- please don't add any more. Grading will be based on writing clean, commented code, along with a few short answers.\n",
    "\n",
    "As always, you're welcome to work on the project in groups and discuss ideas on the course wall, but please prepare your own write-up and write your own code."
   ]
  },
  {
   "cell_type": "code",
   "execution_count": 1,
   "metadata": {
    "colab": {},
    "colab_type": "code",
    "id": "AUYW83LqFsxd"
   },
   "outputs": [],
   "source": [
    "# This tells matplotlib not to try opening a new window for each plot.\n",
    "%matplotlib inline\n",
    "\n",
    "# General libraries.\n",
    "import re\n",
    "import numpy as np\n",
    "import matplotlib.pyplot as plt\n",
    "\n",
    "# SK-learn libraries for learning.\n",
    "from sklearn.pipeline import Pipeline\n",
    "from sklearn.neighbors import KNeighborsClassifier\n",
    "from sklearn.linear_model import LogisticRegression\n",
    "from sklearn.naive_bayes import BernoulliNB\n",
    "from sklearn.naive_bayes import MultinomialNB\n",
    "\n",
    "# SK-learn libraries for evaluation.\n",
    "from sklearn.metrics import confusion_matrix\n",
    "from sklearn import metrics\n",
    "from sklearn.metrics import classification_report\n",
    "\n",
    "# SK-learn library for importing the newsgroup data.\n",
    "from sklearn.datasets import fetch_20newsgroups\n",
    "\n",
    "# SK-learn libraries for feature extraction from text.\n",
    "from sklearn.feature_extraction.text import *\n",
    "\n",
    "import nltk"
   ]
  },
  {
   "cell_type": "markdown",
   "metadata": {
    "colab_type": "text",
    "id": "_ALNjGgCFsxg"
   },
   "source": [
    "Load the data, stripping out metadata so that we learn classifiers that only use textual features. By default, newsgroups data is split into train and test sets. We further split the test so we have a dev set. Note that we specify 4 categories to use for this project. If you remove the categories argument from the fetch function, you'll get all 20 categories."
   ]
  },
  {
   "cell_type": "code",
   "execution_count": 2,
   "metadata": {
    "colab": {},
    "colab_type": "code",
    "id": "ecYpcoxaFsxh"
   },
   "outputs": [
    {
     "name": "stdout",
     "output_type": "stream",
     "text": [
      "training label shape: (2034,)\n",
      "test label shape: (677,)\n",
      "dev label shape: (676,)\n",
      "labels names: ['alt.atheism', 'comp.graphics', 'sci.space', 'talk.religion.misc']\n"
     ]
    }
   ],
   "source": [
    "categories = ['alt.atheism', 'talk.religion.misc', 'comp.graphics', 'sci.space']\n",
    "newsgroups_train = fetch_20newsgroups(subset='train',\n",
    "                                      remove=('headers', 'footers', 'quotes'),\n",
    "                                      categories=categories)\n",
    "newsgroups_test = fetch_20newsgroups(subset='test',\n",
    "                                     remove=('headers', 'footers', 'quotes'),\n",
    "                                     categories=categories)\n",
    "\n",
    "num_test = int(len(newsgroups_test.target) / 2)\n",
    "test_data, test_labels = newsgroups_test.data[num_test:], newsgroups_test.target[num_test:]\n",
    "dev_data, dev_labels = newsgroups_test.data[:num_test], newsgroups_test.target[:num_test]\n",
    "train_data, train_labels = newsgroups_train.data, newsgroups_train.target\n",
    "\n",
    "print('training label shape:', train_labels.shape)\n",
    "print('test label shape:', test_labels.shape)\n",
    "print('dev label shape:', dev_labels.shape)\n",
    "print('labels names:', newsgroups_train.target_names)"
   ]
  },
  {
   "cell_type": "markdown",
   "metadata": {
    "colab_type": "text",
    "id": "OHTnOke6Fsxk"
   },
   "source": [
    "### Part 1:\n",
    "\n",
    "For each of the first 5 training examples, print the text of the message along with the label."
   ]
  },
  {
   "cell_type": "code",
   "execution_count": 4,
   "metadata": {},
   "outputs": [
    {
     "data": {
      "text/plain": [
       "'\\nJust taking a guess, perhaps it was that Koresh had peaceably been served\\nwith warrants before, and he did not shoot anyone but instead went with the\\npolice without fighting.\\n--\\n\"On the first day after Christmas my truelove served to me...  Leftover Turkey!\\nOn the second day after Christmas my truelove served to me...  Turkey Casserole\\n    that she made from Leftover Turkey.\\n[days 3-4 deleted] ...  Flaming Turkey Wings! ...\\n   -- Pizza Hut commercial (and M*tlu/A*gic bait)'"
      ]
     },
     "execution_count": 4,
     "metadata": {},
     "output_type": "execute_result"
    }
   ],
   "source": [
    "test_data[0]"
   ]
  },
  {
   "cell_type": "code",
   "execution_count": 3,
   "metadata": {
    "colab": {},
    "colab_type": "code",
    "id": "X8zhA06xFsxl"
   },
   "outputs": [
    {
     "name": "stdout",
     "output_type": "stream",
     "text": [
      "Example Number: 1\n",
      "Category: talk.religion.misc\n",
      "Hi,\n",
      "\n",
      "I've noticed that if you only save a model (with all your mapping planes\n",
      "positioned carefully) to a .3DS file that when you reload it after restarting\n",
      "3DS, they are given a default position and orientation.  But if you save\n",
      "to a .PRJ file their positions/orientation are preserved.  Does anyone\n",
      "know why this information is not stored in the .3DS file?  Nothing is\n",
      "explicitly said in the manual about saving texture rules in the .PRJ file. \n",
      "I'd like to be able to read the texture rule information, does anyone have \n",
      "the format for the .PRJ file?\n",
      "\n",
      "Is the .CEL file format available from somewhere?\n",
      "\n",
      "Rych\n",
      "\n",
      "\n",
      "Example Number: 2\n",
      "Category: sci.space\n",
      "\n",
      "\n",
      "Seems to be, barring evidence to the contrary, that Koresh was simply\n",
      "another deranged fanatic who thought it neccessary to take a whole bunch of\n",
      "folks with him, children and all, to satisfy his delusional mania. Jim\n",
      "Jones, circa 1993.\n",
      "\n",
      "\n",
      "Nope - fruitcakes like Koresh have been demonstrating such evil corruption\n",
      "for centuries.\n",
      "\n",
      "\n",
      "Example Number: 3\n",
      "Category: comp.graphics\n",
      "\n",
      " >In article <1993Apr19.020359.26996@sq.sq.com>, msb@sq.sq.com (Mark Brader) \n",
      "\n",
      "MB>                                                             So the\n",
      "MB> 1970 figure seems unlikely to actually be anything but a perijove.\n",
      "\n",
      "JG>Sorry, _perijoves_...I'm not used to talking this language.\n",
      "\n",
      "Couldn't we just say periapsis or apoapsis?\n",
      "\n",
      " \n",
      "\n",
      "\n",
      "Example Number: 4\n",
      "Category: alt.atheism\n",
      "I have a request for those who would like to see Charley Wingate\n",
      "respond to the \"Charley Challenges\" (and judging from my e-mail, there\n",
      "appear to be quite a few of you.)  \n",
      "\n",
      "It is clear that Mr. Wingate intends to continue to post tangential or\n",
      "unrelated articles while ingoring the Challenges themselves.  Between\n",
      "the last two re-postings of the Challenges, I noted perhaps a dozen or\n",
      "more posts by Mr. Wingate, none of which answered a single Challenge.  \n",
      "\n",
      "It seems unmistakable to me that Mr. Wingate hopes that the questions\n",
      "will just go away, and he is doing his level best to change the\n",
      "subject.  Given that this seems a rather common net.theist tactic, I\n",
      "would like to suggest that we impress upon him our desire for answers,\n",
      "in the following manner:\n",
      "\n",
      "1. Ignore any future articles by Mr. Wingate that do not address the\n",
      "Challenges, until he answers them or explictly announces that he\n",
      "refuses to do so.\n",
      "\n",
      "--or--\n",
      "\n",
      "2. If you must respond to one of his articles, include within it\n",
      "something similar to the following:\n",
      "\n",
      "    \"Please answer the questions posed to you in the Charley Challenges.\"\n",
      "\n",
      "Really, I'm not looking to humiliate anyone here, I just want some\n",
      "honest answers.  You wouldn't think that honesty would be too much to\n",
      "ask from a devout Christian, would you?  \n",
      "\n",
      "Nevermind, that was a rhetorical question.\n",
      "\n",
      "\n",
      "Example Number: 5\n",
      "Category: comp.graphics\n",
      "AW&ST  had a brief blurb on a Manned Lunar Exploration confernce\n",
      "May 7th  at Crystal City Virginia, under the auspices of AIAA.\n",
      "\n",
      "Does anyone know more about this?  How much, to attend????\n",
      "\n",
      "Anyone want to go?\n",
      "\n",
      "\n"
     ]
    }
   ],
   "source": [
    "def P1(num_examples=5):\n",
    "### STUDENT START ###\n",
    "    for i in range(num_examples):\n",
    "        print (\"Example Number: \" + str(i+1) + \"\\nCategory: \" + categories[train_labels[i]] + \n",
    "               \"\\n\" + train_data[i] + \"\\n\\n\")\n",
    "### STUDENT END ###\n",
    "P1()"
   ]
  },
  {
   "cell_type": "markdown",
   "metadata": {
    "colab_type": "text",
    "id": "onfno6uHFsxm"
   },
   "source": [
    "### Part 2:\n",
    "\n",
    "Use CountVectorizer to turn the raw training text into feature vectors. You should use the fit_transform function, which makes 2 passes through the data: first it computes the vocabulary (\"fit\"), second it converts the raw text into feature vectors using the vocabulary (\"transform\").\n",
    "\n",
    "The vectorizer has a lot of options. To get familiar with some of them, write code to answer these questions:\n",
    "\n",
    "a. The output of the transform (also of fit_transform) is a sparse matrix: http://docs.scipy.org/doc/scipy-0.14.0/reference/generated/scipy.sparse.csr_matrix.html. What is the size of the vocabulary? What is the average number of non-zero features per example? What fraction of the entries in the matrix are non-zero? Hint: use \"nnz\" and \"shape\" attributes.\n",
    "\n",
    "b. What are the 0th and last feature strings (in alphabetical order)? Hint: use the vectorizer's get_feature_names function.\n",
    "\n",
    "c. Specify your own vocabulary with 4 words: [\"atheism\", \"graphics\", \"space\", \"religion\"]. Confirm the training vectors are appropriately shaped. Now what's the average number of non-zero features per example?\n",
    "\n",
    "d. Instead of extracting unigram word features, use \"analyzer\" and \"ngram_range\" to extract bigram and trigram character features. What size vocabulary does this yield?\n",
    "\n",
    "e. Use the \"min_df\" argument to prune words that appear in fewer than 10 documents. What size vocabulary does this yield?\n",
    "\n",
    "f. Using the standard CountVectorizer, what fraction of the words in the dev data are missing from the vocabulary? Hint: build a vocabulary for both train and dev and look at the size of the difference."
   ]
  },
  {
   "cell_type": "code",
   "execution_count": 4,
   "metadata": {
    "colab": {},
    "colab_type": "code",
    "id": "LyVwk5RvFsxn"
   },
   "outputs": [
    {
     "name": "stdout",
     "output_type": "stream",
     "text": [
      "A.\n",
      "Size of the vocabulary: 26879\n",
      "Average number of non-zero features per example: 96.70599803343165\n",
      "Fraction of the entries in the matrix are non-zero: 0.0035978\n",
      "\n",
      "B.\n",
      "0th feature string: 00\n",
      "Last feature string: zyxel\n",
      "\n",
      "C.\n",
      "Average number of non-zero features per example for new vocab: 0.2684\n",
      "\n",
      "D.\n",
      "Size of the vocab for bigram char features: 3291\n",
      "Size of the vocab for trigram char features: 32187\n",
      "\n",
      "E.\n",
      "Size of the vocab for that appear in fewer than 10 docs: 3064\n",
      "\n",
      "F.\n",
      "What fraction of the words in the dev data are missing from the vocabulary: 0.2479\n"
     ]
    }
   ],
   "source": [
    "def P2():\n",
    "### STUDENT START ###\n",
    "# A.\n",
    "# Size of the vocabulary\n",
    "# initializing the CountVectorizer\n",
    "    vector_size = CountVectorizer()\n",
    "    train_matrix_1 = vector_size.fit_transform(train_data)\n",
    "    print(\"A.\\n\" + \"Size of the vocabulary: \" + str(train_matrix_1.shape[1]))\n",
    "\n",
    "    # Average number of non-zero features per example?\n",
    "    # using nnz to get the number of non zeros from train_matrix_1, then divide by # of features\n",
    "    non_zero_feat = train_matrix_1.nnz\n",
    "    print(\"Average number of non-zero features per example: \" + str(non_zero_feat / train_matrix_1.shape[0]))\n",
    "\n",
    "    # What fraction of the entries in the matrix are non-zero?\n",
    "    # using the same formula above, we just have to multiply denominator with number of vocabulary\n",
    "    print(\"Fraction of the entries in the matrix are non-zero: \" + \n",
    "          str(round(float(non_zero_feat / (train_matrix_1.shape[0] * train_matrix_1.shape[1])), 7)))\n",
    "\n",
    "    # B. What are the 0th and last feature strings (in alphabetical order)?\n",
    "    train_matrix_1b = vector_size.get_feature_names()\n",
    "    print(\"\\nB.\\n\" + \"0th feature string: \" + str(train_matrix_1b[0]))\n",
    "    print(\"Last feature string: \" + str(train_matrix_1b[-1]))\n",
    "\n",
    "    # C. What's the average number of non-zero features per example?\n",
    "    # Declaring our vocabulary with 4 words: [\"atheism\", \"graphics\", \"space\", \"religion\"]\n",
    "    my_vocab = [\"atheism\", \"graphics\", \"space\", \"religion\"]\n",
    "    # Re-shaping our training vectors with the new vocab\n",
    "    vector_vocab = CountVectorizer(vocabulary = my_vocab)\n",
    "    train_matrix_2 = vector_vocab.fit_transform(train_data)\n",
    "    non_zero_vocab = train_matrix_2.nnz\n",
    "    print(\"\\nC.\\n\" + \"Average number of non-zero features per example for new vocab: \" \n",
    "          + str(round(float(non_zero_vocab / train_matrix_2.shape[0]), 4)))\n",
    "\n",
    "    # D. What size vocabulary does this yield?\n",
    "    # using ngram_range = (2,2) and analyzer = 'char' for bigram\n",
    "    vector_bigram = CountVectorizer(ngram_range = (2,2), analyzer = 'char')\n",
    "    train_matrix_3 = vector_bigram.fit_transform(train_data)\n",
    "    print(\"\\nD.\\n\" + \"Size of the vocab for bigram char features: \" + str(train_matrix_3.shape[1]))\n",
    "\n",
    "    # using ngram_range = (3,3) and analyzer = 'char' for trigram\n",
    "    vector_trigram = CountVectorizer(ngram_range = (3,3), analyzer = 'char')\n",
    "    train_matrix_4 = vector_trigram.fit_transform(train_data)\n",
    "    print(\"Size of the vocab for trigram char features: \" + str(train_matrix_4.shape[1]))\n",
    "\n",
    "    # E. What size vocabulary does this yield?\n",
    "    vector_min_df = CountVectorizer(min_df = 10)\n",
    "    train_matrix_5 = vector_min_df.fit_transform(train_data)\n",
    "    print(\"\\nE.\\n\" + \"Size of the vocab for that appear in fewer than 10 docs: \" + str(train_matrix_5.shape[1]))\n",
    "\n",
    "    # F. What fraction of the words in the dev data are missing from the vocabulary? \n",
    "    vector_dev = CountVectorizer()\n",
    "    train_matrix_6 = vector_dev.fit_transform(dev_data)\n",
    "    train_matrix_7 = vector_dev.get_feature_names()\n",
    "    # setting up a loop to append all the missing items in dev from the vocabulary\n",
    "    delta_dev_train = []\n",
    "    for i in train_matrix_7:\n",
    "        if i not in train_matrix_1b:\n",
    "            delta_dev_train.append(i)\n",
    "    # Dividing the length of missing vocab from dev by the size of vocabulary\n",
    "    print(\"\\nF.\\n\" + \"What fraction of the words in the dev data are missing from the vocabulary: \" + \n",
    "          str(round(len(delta_dev_train)/train_matrix_6.shape[1], 4)))\n",
    "\n",
    "### STUDENT END ###\n",
    "P2()"
   ]
  },
  {
   "cell_type": "markdown",
   "metadata": {
    "colab_type": "text",
    "id": "ydjkRh6LFsxp"
   },
   "source": [
    "### Part 3:\n",
    "\n",
    "Use the default CountVectorizer options and report the f1 score (use metrics.f1_score with average=\"weighted\") for a k nearest neighbors classifier; find the optimal value for k. Also fit a Multinomial Naive Bayes model and find the optimal value for alpha. Finally, fit a logistic regression model and find the optimal value for the regularization strength C using l2 regularization. A few questions:\n",
    "\n",
    "* Why doesn't nearest neighbors work well for this problem?\n",
    "* Any ideas why logistic regression doesn't work as well as Naive Bayes?\n",
    "* Logistic regression estimates a weight vector for each class, which you can access with the coef\\_ attribute. Output the sum of the squared weight values for each class for each setting of the C parameter. Briefly explain the relationship between the sum and the value of C."
   ]
  },
  {
   "cell_type": "code",
   "execution_count": 5,
   "metadata": {
    "colab": {},
    "colab_type": "code",
    "id": "VvhpODdWFsxp",
    "scrolled": true
   },
   "outputs": [
    {
     "name": "stdout",
     "output_type": "stream",
     "text": [
      "Optimal K: 42, F1 Score: 0.47168321681626313\n",
      "Optimal Alpha: 0.1, F1 Score: 0.7954935780581611\n",
      "Optimal C: 0.1, F1 Score: 0.7116596694267557\n",
      "c:  0.001 | sum of weights^2:  [0.16509345 0.20095275 0.18067094 0.18724278]\n",
      "c:  0.01 | sum of weights^2:  [2.54147847 2.93970937 2.86246884 2.25002921]\n",
      "c:  0.1 | sum of weights^2:  [27.12949733 24.65904426 27.45774154 23.02605311]\n",
      "c:  1 | sum of weights^2:  [166.98390599 130.90932402 157.94489671 145.73682998]\n",
      "c:  5 | sum of weights^2:  [423.33356193 322.91365009 389.90295775 377.98212759]\n",
      "c:  10 | sum of weights^2:  [586.13543478 448.1432137  539.25218447 530.94426706]\n",
      "c:  25 | sum of weights^2:  [859.08048589 660.39199872 790.6505442  790.92941688]\n",
      "c:  50 | sum of weights^2:  [1111.01588363  855.70467482 1022.07766283 1033.89157401]\n",
      "c:  100 | sum of weights^2:  [1404.3356582  1081.87307064 1269.03854414 1315.24714935]\n",
      "c:  500 | sum of weights^2:  [2278.3703046  1713.57673548 2087.21359804 2132.16172002]\n",
      "c:  750 | sum of weights^2:  [2559.35211177 1845.10971188 2318.50377123 1716.27334213]\n",
      "c:  1500 | sum of weights^2:  [2741.33182456 2021.16875099 2487.26919865 2845.40312596]\n"
     ]
    }
   ],
   "source": [
    "def P3():\n",
    "### STUDENT START ###\n",
    " # knn model for part 3\n",
    "    vector_part3 = CountVectorizer()\n",
    "    train_matrix_8 = vector_part3.fit_transform(train_data)\n",
    "    train_matrix_9 = vector_part3.transform(dev_data)\n",
    "    pred_knn_best = 0\n",
    "    for k in range(1,50):\n",
    "        model_knn = KNeighborsClassifier(n_neighbors=k)\n",
    "        model_knn.fit(train_matrix_8, train_labels)\n",
    "        pred_knn = model_knn.predict(train_matrix_9)\n",
    "        if metrics.f1_score(pred_knn, dev_labels, average = 'weighted') > pred_knn_best:\n",
    "            pred_knn_best = metrics.f1_score(pred_knn, dev_labels, average = 'weighted')\n",
    "            iterations = k\n",
    "    print(\"Optimal K: \" + str(iterations) + \", F1 Score: \" + str(pred_knn_best))\n",
    "    \n",
    " # Also fit a Multinomial Naive Bayes model and find the optimal value for alpha\n",
    "    alphas = [1.0e-10, 0.0001, 0.001, 0.01, 0.1, 0.5, 1.0, 2.0, 10.0]\n",
    "    pred_mnb_best = 0\n",
    "    for i in alphas:\n",
    "        model_mnb = MultinomialNB(alpha = i)\n",
    "        model_mnb.fit(train_matrix_8, train_labels)\n",
    "        pred_mnb = model_mnb.predict(train_matrix_9)\n",
    "        if metrics.f1_score(pred_mnb, dev_labels, average = 'weighted') > pred_mnb_best:\n",
    "            pred_mnb_best = metrics.f1_score(pred_mnb, dev_labels, average = 'weighted')\n",
    "            optimal_alpha = i\n",
    "    print(\"Optimal Alpha: \" + str(optimal_alpha) + \", F1 Score: \" + str(pred_mnb_best))\n",
    "\n",
    " # finding the best value of C for logreg\n",
    "    str_c = [0.001, 0.01, 0.1, 1, 5, 10, 25, 50, 100, 500, 750, 1500]\n",
    "    c_optimal = 0\n",
    "    pred_lr_best = 0\n",
    "    temp_list = []\n",
    "    sq_coef = []\n",
    "    for i in str_c:\n",
    "        model_lr = LogisticRegression(penalty = 'l2', solver = 'liblinear', multi_class = 'ovr', C = i)\n",
    "        model_lr.fit(train_matrix_8, train_labels)\n",
    "        pred_lr = model_lr.predict(train_matrix_9)\n",
    "        f1_logreg = metrics.f1_score(pred_lr, dev_labels, average = 'weighted')\n",
    "        if f1_logreg > pred_lr_best:\n",
    "            c_optimal = i\n",
    "            pred_lr_best = f1_logreg\n",
    "\n",
    "    print(\"Optimal C: \" + str(c_optimal) + \", F1 Score: \" + str(pred_lr_best))\n",
    "    \n",
    " # sum of squared weights   \n",
    "    for i in str_c:\n",
    "        model_lr = LogisticRegression(penalty = 'l2', solver = 'liblinear', multi_class = 'ovr', C = i)\n",
    "        model_lr.fit(train_matrix_8, train_labels)\n",
    "        pred_lr = model_lr.predict(train_matrix_9)\n",
    "        temp_list.append(model_lr.coef_)\n",
    "\n",
    "    for j in range(len(temp_list)):\n",
    "        print(\"c: \", str_c[j], \"| sum of weights^2: \", np.sum(np.square(temp_list[j]), axis=1))\n",
    "### STUDENT END ###\n",
    "P3()"
   ]
  },
  {
   "cell_type": "markdown",
   "metadata": {
    "colab_type": "text",
    "id": "jWtXwAlOFsxr"
   },
   "source": [
    "ANSWER:\n",
    "\n",
    "* Why doesn't nearest neighbors work well for this problem?\n",
    "  \n",
    "  We're dealing with a feature size that's greater than 2,000. That is a lot of features and more complexity is introduced with more features/dimensions. Unless we dramatically reduce the size of the features, nearest neighbors would not work well for this problem\n",
    "  \n",
    "* Any ideas why logistic regression doesn't work as well as Naive Bayes?\n",
    "\n",
    "  The difference between Naive Bayes and logistic regression is that Naive Bayes assumes independence amongst features while logistic regression looks for relationships between features. Since we're dealing with more than 2,000 features, the logistic regression will perform badly due to complexity. If we want to improve the performance of our logistic regression model, we must reduce the number of features\n",
    "    \n",
    "\n",
    "* Logistic regression estimates a weight vector for each class, which you can access with the coef\\_ attribute. Output the sum of the squared weight values for each class for each setting of the C parameter. Briefly explain the relationship between the sum and the value of C.\n",
    "\n",
    "  In the table above, as the C value started increasing from 0.001 to 1500, the sum of squared weights increased as well. Large C values allow large parameter values, which will end up being magnified when squared and summed up. High weights may lead to the issue of overfitting, therefore different c values should be used with caution"
   ]
  },
  {
   "cell_type": "markdown",
   "metadata": {
    "colab_type": "text",
    "id": "dGEjsm_uFsxr"
   },
   "source": [
    "### Part 4:\n",
    "\n",
    "Train a logistic regression model. Find the 5 features with the largest weights for each label -- 20 features in total. Create a table with 20 rows and 4 columns that shows the weight for each of these features for each of the labels. Create the table again with bigram features. Any surprising features in this table?"
   ]
  },
  {
   "cell_type": "code",
   "execution_count": 6,
   "metadata": {},
   "outputs": [],
   "source": [
    "import pandas as pd"
   ]
  },
  {
   "cell_type": "code",
   "execution_count": 7,
   "metadata": {
    "colab": {},
    "colab_type": "code",
    "id": "WN51Nv4fFsxs"
   },
   "outputs": [
    {
     "name": "stdout",
     "output_type": "stream",
     "text": [
      "Weights for Unigram Features\n",
      "             alt.atheism  comp.graphics  sci.space  talk.religion.misc\n",
      "atheism        0.495444      -0.207262  -0.199913           -0.267782\n",
      "religion       0.493972      -0.298789  -0.393236            0.003912\n",
      "bobby          0.478151      -0.120397  -0.167834           -0.227826\n",
      "atheists       0.461330      -0.079416  -0.158385           -0.295281\n",
      "islam          0.426283      -0.084818  -0.165049           -0.164898\n",
      "graphics      -0.411138       1.007544  -0.651119           -0.372245\n",
      "image         -0.263573       0.642081  -0.367632           -0.216177\n",
      "file          -0.177353       0.641221  -0.421586           -0.288284\n",
      "computer      -0.039770       0.558989  -0.329038           -0.228708\n",
      "3d            -0.181984       0.546999  -0.311629           -0.181435\n",
      "space         -0.655174      -0.714099   1.258760           -0.590278\n",
      "orbit         -0.217564      -0.334085   0.597341           -0.248951\n",
      "nasa          -0.273449      -0.261763   0.540867           -0.253119\n",
      "launch        -0.210938      -0.244629   0.478960           -0.169068\n",
      "moon          -0.202794      -0.291486   0.403107           -0.056430\n",
      "christian     -0.262453      -0.190424  -0.194538            0.547613\n",
      "christians    -0.330879      -0.162642  -0.203063            0.499467\n",
      "blood         -0.208279      -0.063190  -0.097576            0.433859\n",
      "order         -0.354764      -0.037648  -0.081870            0.429085\n",
      "fbi           -0.127858      -0.111728  -0.220495            0.422103 \n",
      "\n",
      "Weights for Bigram Features\n",
      "                alt.atheism  comp.graphics  sci.space  talk.religion.misc\n",
      "cheers kent       0.314805      -0.366990  -0.355327            0.329547\n",
      "in this           0.297928      -0.026309  -0.295854           -0.065225\n",
      "is not            0.296120      -0.146016  -0.287450            0.030936\n",
      "claim that        0.285117      -0.102316  -0.140065           -0.055676\n",
      "are you           0.277476      -0.144993  -0.078735           -0.147020\n",
      "looking for      -0.383645       0.671230  -0.292240           -0.327731\n",
      "in advance       -0.282800       0.525636  -0.258337           -0.245845\n",
      "out there        -0.175384       0.463000  -0.274904           -0.163798\n",
      "is there         -0.176670       0.415800  -0.274608           -0.122939\n",
      "comp graphics    -0.152035       0.382663  -0.203534           -0.127410\n",
      "the moon         -0.231782      -0.309011   0.562894           -0.157109\n",
      "the space        -0.172214      -0.289123   0.524647           -0.171627\n",
      "and such         -0.123210      -0.202598   0.370202           -0.135292\n",
      "sci space        -0.147054      -0.202696   0.367722           -0.124182\n",
      "it was           -0.105404      -0.200368   0.328214           -0.167435\n",
      "cheers kent       0.314805      -0.366990  -0.355327            0.329547\n",
      "the fbi          -0.071428      -0.112654  -0.162918            0.320272\n",
      "with you         -0.116107      -0.009129  -0.182095            0.273991\n",
      "the word          0.017179      -0.138737  -0.156158            0.255372\n",
      "jesus christ     -0.107959      -0.087032  -0.114937            0.245854\n"
     ]
    }
   ],
   "source": [
    "def P4():\n",
    "### STUDENT START ###\n",
    "    ## Unigram Logistic Regression\n",
    "    # Creating vectors for unigram features\n",
    "    vector_part4a = CountVectorizer()\n",
    "    train_matrix_10 = vector_part4a.fit_transform(train_data)\n",
    "    train_matrix_11 = vector_part4a.transform(dev_data)\n",
    "    \n",
    "    # Logistic Regression Model\n",
    "    model_part4a = LogisticRegression(penalty = 'l2',solver = 'liblinear', multi_class = 'ovr', C = 0.1)\n",
    "    model_part4a.fit(train_matrix_10, train_labels)\n",
    "    pred_uni = model_part4a.predict(train_matrix_11)\n",
    "    \n",
    "    # Storing the coefficients in a dataframe\n",
    "    df = pd.DataFrame(data = model_part4a.coef_, index = newsgroups_train.target_names, columns = vector_part4a.get_feature_names())\n",
    "    # Transposing the dataframe for better view\n",
    "    transposed_df = df.T\n",
    "    # Collecting the top 5 words for all features\n",
    "    top_df = transposed_df.sort_values(newsgroups_train.target_names[0], ascending = False).head(5)\n",
    "    for i in range(1,4):\n",
    "        temp_df = transposed_df.sort_values(newsgroups_train.target_names[i], ascending = False).head(5)\n",
    "        top_df = top_df.append(temp_df)\n",
    "    \n",
    "    ## Bigram Logistic Regression\n",
    "    # Re-creating vectors for bigram features\n",
    "    vector_part4b = CountVectorizer(analyzer = 'word', ngram_range = (2,2))\n",
    "    train_matrix_12 = vector_part4b.fit_transform(train_data)\n",
    "    train_matrix_13 = vector_part4b.transform(dev_data)\n",
    "    \n",
    "    # Logistic Regression Model\n",
    "    model_part4b = LogisticRegression(penalty = 'l2',solver = 'liblinear', multi_class = 'ovr', C = 0.1)\n",
    "    model_part4b.fit(train_matrix_12, train_labels)\n",
    "    pred_bi = model_part4b.predict(train_matrix_13)\n",
    "    \n",
    "    # Storing the coefficients in a dataframe\n",
    "    df2 = pd.DataFrame(data = model_part4b.coef_, index = newsgroups_train.target_names, columns = vector_part4b.get_feature_names())\n",
    "    # Transposing the dataframe for better view\n",
    "    transposed_df2 = df2.T\n",
    "    # Collecting the top 5 words for all features\n",
    "    top_df_bi = transposed_df2.sort_values(newsgroups_train.target_names[0], ascending = False).head(5)\n",
    "    for k in range(1,4):\n",
    "        temp_df_bi = transposed_df2.sort_values(newsgroups_train.target_names[k], ascending = False).head(5)\n",
    "        top_df_bi = top_df_bi.append(temp_df_bi)\n",
    "    \n",
    "    print(\"Weights for Unigram Features\\n\", top_df, \"\\n\\nWeights for Bigram Features\\n\", top_df_bi)\n",
    "    \n",
    "\n",
    "    \n",
    "### STUDENT END ###\n",
    "P4()"
   ]
  },
  {
   "cell_type": "markdown",
   "metadata": {
    "colab_type": "text",
    "id": "cY67F-tXFsxt"
   },
   "source": [
    "ANSWER:\n",
    "\n",
    "Some odd features with heavy weights that caught my eye were (bobby) in [alt.atheism], (blood, fbi) in [talk.religion.misc]for the unigram feature models. For the bigram feature models, (cheers kent) had heavy weights in both [alt.atheism and talk.religion.misc]. This was a bit interesting, but after seeing some letter type correspondence documents from the first 5 examples of our dataset, I'm going to assume that \"cheers kent\" is the ending of many correspondence for many letter format documents. Therefore, it's understandable that \"kent\" or \"cheers kent\" could have high weights in our output. Validation and further data manipulation is required to improve this logistic regression model."
   ]
  },
  {
   "cell_type": "markdown",
   "metadata": {
    "colab_type": "text",
    "id": "rVWhSJHHFsxu"
   },
   "source": [
    "### Part 5:\n",
    "\n",
    "Try to improve the logistic regression classifier by passing a custom preprocessor to CountVectorizer. The preprocessing function runs on the raw text, before it is split into words by the tokenizer. Your preprocessor should try to normalize the input in various ways to improve generalization. For example, try lowercasing everything, replacing sequences of numbers with a single token, removing various other non-letter characters, and shortening long words. If you're not already familiar with regular expressions for manipulating strings, see https://docs.python.org/2/library/re.html, and re.sub() in particular. With your new preprocessor, how much did you reduce the size of the dictionary?\n",
    "\n",
    "For reference, I was able to improve dev F1 by 2 points."
   ]
  },
  {
   "cell_type": "code",
   "execution_count": 8,
   "metadata": {
    "colab": {},
    "colab_type": "code",
    "id": "l7gS3cGpFsxv"
   },
   "outputs": [
    {
     "name": "stdout",
     "output_type": "stream",
     "text": [
      "F1 Score of no preprocessing:  0.7116596694267557\n",
      "F1 Score with preprocessing:  0.7238484232455749\n",
      "Number of features reduced by preprocessing:  3277\n",
      "Score Improvement:  1.218875381881912\n"
     ]
    }
   ],
   "source": [
    "def empty_preprocessor(s):\n",
    "    return s\n",
    "\n",
    "def better_preprocessor(s):\n",
    "### STUDENT START ###\n",
    "    # all lower case\n",
    "    s1 = s.lower()\n",
    "    # only words\n",
    "    s2 = re.sub(\"[^a-zA-Z]\", \" \", s1)\n",
    "    # removing short words\n",
    "    s3 = re.sub(r\"\\b[\\w']{1,2}\\b\", \" \", s2)\n",
    "    return s3\n",
    "### STUDENT END ###\n",
    "\n",
    "def P5():\n",
    "### STUDENT START ###\n",
    "# Running with empty preprocessor\n",
    "    vector_part5 = CountVectorizer()\n",
    "    train_matrix_14 = vector_part5.fit_transform(train_data)\n",
    "    train_matrix_15 = vector_part5.transform(dev_data)\n",
    "    \n",
    "    # Logistic Regression Model\n",
    "    model_part5 = LogisticRegression(penalty = 'l2',solver = 'liblinear', multi_class = 'ovr', C = 0.1)\n",
    "    model_part5.fit(train_matrix_14, train_labels)\n",
    "    pred_p5 = model_part5.predict(train_matrix_15)\n",
    "    f1_p5 = metrics.f1_score(pred_p5, dev_labels, average = 'weighted')\n",
    "    print(\"F1 Score of no preprocessing: \", f1_p5)\n",
    "\n",
    "# Running with better preprocessor\n",
    "    vector_part5b = CountVectorizer(preprocessor = better_preprocessor)\n",
    "    train_matrix_16 = vector_part5b.fit_transform(train_data)\n",
    "    train_matrix_17 = vector_part5b.transform(dev_data)\n",
    "    \n",
    "    # Logistic Regression Model\n",
    "    model_part5b = LogisticRegression(penalty = 'l2',solver = 'liblinear', multi_class = 'ovr', C = 0.1)\n",
    "    model_part5b.fit(train_matrix_16, train_labels)\n",
    "    pred_p5b = model_part5b.predict(train_matrix_17)\n",
    "    f1_p5b = metrics.f1_score(pred_p5b, dev_labels, average = 'weighted')\n",
    "    print(\"F1 Score with preprocessing: \", f1_p5b)\n",
    "    \n",
    "    # Reduction of vocab\n",
    "    print(\"Number of features reduced by preprocessing: \", train_matrix_14.shape[1] - train_matrix_16.shape[1])\n",
    "    print(\"Score Improvement: \", (f1_p5b - f1_p5)*100)\n",
    "### STUDENT END ###\n",
    "P5()"
   ]
  },
  {
   "cell_type": "markdown",
   "metadata": {
    "colab_type": "text",
    "id": "Uy-WITbNFsxw"
   },
   "source": [
    "### Part 6:\n",
    "\n",
    "The idea of regularization is to avoid learning very large weights (which are likely to fit the training data, but not generalize well) by adding a penalty to the total size of the learned weights. That is, logistic regression seeks the set of weights that minimizes errors in the training data AND has a small size. The default regularization, L2, computes this size as the sum of the squared weights (see P3, above). L1 regularization computes this size as the sum of the absolute values of the weights. The result is that whereas L2 regularization makes all the weights relatively small, L1 regularization drives lots of the weights to 0, effectively removing unimportant features.\n",
    "\n",
    "Train a logistic regression model using a \"l1\" penalty. Output the number of learned weights that are not equal to zero. How does this compare to the number of non-zero weights you get with \"l2\"? Now, reduce the size of the vocabulary by keeping only those features that have at least one non-zero weight and retrain a model using \"l2\".\n",
    "\n",
    "Make a plot showing accuracy of the re-trained model vs. the vocabulary size you get when pruning unused features by adjusting the C parameter.\n",
    "\n",
    "Note: The gradient descent code that trains the logistic regression model sometimes has trouble converging with extreme settings of the C parameter. Relax the convergence criteria by setting tol=.015 (the default is .0001)."
   ]
  },
  {
   "cell_type": "code",
   "execution_count": 10,
   "metadata": {
    "colab": {},
    "colab_type": "code",
    "id": "l6ho31SrFsxx"
   },
   "outputs": [
    {
     "name": "stdout",
     "output_type": "stream",
     "text": [
      "When C:  0.001 \n",
      "# of Non-Zero Weights for L1 are:  5\n",
      "# of Non-Zero Weights for L2 are:  107516 \n",
      "\n",
      "When C:  0.01 \n",
      "# of Non-Zero Weights for L1 are:  38\n",
      "# of Non-Zero Weights for L2 are:  107516 \n",
      "\n",
      "When C:  0.1 \n",
      "# of Non-Zero Weights for L1 are:  374\n",
      "# of Non-Zero Weights for L2 are:  107516 \n",
      "\n",
      "When C:  1 \n",
      "# of Non-Zero Weights for L1 are:  1974\n",
      "# of Non-Zero Weights for L2 are:  107516 \n",
      "\n",
      "When C:  5 \n",
      "# of Non-Zero Weights for L1 are:  5585\n",
      "# of Non-Zero Weights for L2 are:  107516 \n",
      "\n",
      "When C:  10 \n",
      "# of Non-Zero Weights for L1 are:  6601\n",
      "# of Non-Zero Weights for L2 are:  107516 \n",
      "\n",
      "When C:  25 \n",
      "# of Non-Zero Weights for L1 are:  9604\n",
      "# of Non-Zero Weights for L2 are:  107516 \n",
      "\n",
      "When C:  50 \n",
      "# of Non-Zero Weights for L1 are:  13759\n",
      "# of Non-Zero Weights for L2 are:  107516 \n",
      "\n",
      "When C:  100 \n",
      "# of Non-Zero Weights for L1 are:  18553\n",
      "# of Non-Zero Weights for L2 are:  107516 \n",
      "\n",
      "When C:  500 \n",
      "# of Non-Zero Weights for L1 are:  56814\n",
      "# of Non-Zero Weights for L2 are:  107516 \n",
      "\n",
      "When C:  750 \n",
      "# of Non-Zero Weights for L1 are:  65035\n",
      "# of Non-Zero Weights for L2 are:  107516 \n",
      "\n",
      "When C:  1500 \n",
      "# of Non-Zero Weights for L1 are:  79779\n",
      "# of Non-Zero Weights for L2 are:  107516 \n",
      "\n"
     ]
    },
    {
     "data": {
      "image/png": "[encoded data removed]",
      "text/plain": [
       "<Figure size 432x288 with 1 Axes>"
      ]
     },
     "metadata": {
      "needs_background": "light"
     },
     "output_type": "display_data"
    }
   ],
   "source": [
    "def P6():\n",
    "    # Keep this random seed here to make comparison easier.\n",
    "    np.random.seed(0)\n",
    "\n",
    "    ### STUDENT START ###\n",
    "    str_c = [0.001, 0.01, 0.1, 1, 5, 10, 25, 50, 100, 500, 750, 1500]\n",
    "    new_list = []\n",
    "    x_axis = []\n",
    "    y_axis = []\n",
    "    vector_part6a = CountVectorizer()\n",
    "    train_matrix_18 = vector_part6a.fit_transform(train_data)\n",
    "    train_matrix_19 = vector_part6a.transform(dev_data)\n",
    "    \n",
    "    for i in str_c:\n",
    "        # Logistic Regression Model with L1 Penalty\n",
    "        model_part6a = LogisticRegression(penalty = 'l1',solver = 'liblinear', multi_class = 'ovr', \n",
    "                                          C = i, tol = .015)\n",
    "        model_part6a.fit(train_matrix_18, train_labels)\n",
    "        x_axis.append(np.count_nonzero(model_part6a.coef_))\n",
    "        print(\"When C: \", i, \"\\n# of Non-Zero Weights for L1 are: \", np.count_nonzero(model_part6a.coef_))\n",
    "        # Logistic Regression Model with L2 Penalty\n",
    "        model_part6b = LogisticRegression(penalty = 'l2',solver = 'liblinear', multi_class = 'ovr', \n",
    "                                          C = i, tol = .015)\n",
    "        model_part6b.fit(train_matrix_18, train_labels)\n",
    "        print(\"# of Non-Zero Weights for L2 are: \", np.count_nonzero(model_part6b.coef_),\"\\n\")\n",
    "    \n",
    "    # reducing the size of vocab\n",
    "    p6_coef = model_part6a.coef_\n",
    "    p6_feature_names = vector_part6a.get_feature_names()\n",
    "    save1 = np.nonzero(p6_coef)[0]\n",
    "    save2 = np.nonzero(p6_coef)[1]\n",
    "    p6_non_zero = np.array([save1,save2])\n",
    "    for ii in p6_non_zero[1]:\n",
    "        new_list.append(p6_feature_names[ii])\n",
    "    \n",
    "    # retraining the L2 model with new_list\n",
    "    unique_new_list = np.unique(new_list)\n",
    "    vector_part6b = CountVectorizer(vocabulary = unique_new_list)\n",
    "    train_matrix_20 = vector_part6b.fit_transform(train_data)\n",
    "    train_matrix_21 = vector_part6b.transform(dev_data)\n",
    "    \n",
    "    # storing the f1 scores for plotting\n",
    "    for iii in str_c:\n",
    "        model_part6b = LogisticRegression(penalty = 'l2',solver = 'liblinear', multi_class = 'ovr', \n",
    "                                          C = iii, tol = .015)\n",
    "        model_part6b.fit(train_matrix_20, train_labels)\n",
    "        p6_pred = model_part6b.predict(train_matrix_21)\n",
    "        y_axis.append(metrics.f1_score(p6_pred, dev_labels, average = \"weighted\"))\n",
    "    \n",
    "    # plotting \n",
    "    plt.plot(np.log(x_axis), y_axis)\n",
    "    plt.title('Accuracy of the Re-trained Model vs. the Pruned Vocabulary Size')\n",
    "    plt.xlabel(\"(log)Vocabulary\")\n",
    "    plt.ylabel(\"F1 Score\")\n",
    "    plt.show()\n",
    "    \n",
    "    ### STUDENT END ###\n",
    "P6()"
   ]
  },
  {
   "cell_type": "markdown",
   "metadata": {
    "colab_type": "text",
    "id": "QmrHf8AMFsxz"
   },
   "source": [
    "### Part 7:\n",
    "\n",
    "Use the TfidfVectorizer -- how is this different from the CountVectorizer? Train a logistic regression model with C=100.\n",
    "\n",
    "Make predictions on the dev data and show the top 3 documents where the ratio R is largest, where R is:\n",
    "\n",
    "maximum predicted probability / predicted probability of the correct label\n",
    "\n",
    "What kinds of mistakes is the model making? Suggest a way to address one particular issue that you see."
   ]
  },
  {
   "cell_type": "code",
   "execution_count": 12,
   "metadata": {
    "colab": {},
    "colab_type": "code",
    "id": "8vwU_9t2Fsx0"
   },
   "outputs": [
    {
     "name": "stdout",
     "output_type": "stream",
     "text": [
      "Ratio R 929.357964497737\n",
      "Actual:  talk.religion.misc\n",
      "Predicted:  comp.graphics\n",
      "I am pleased to announce that a *revised version* of _The Easy-to-Read Book\n",
      "of Mormon_ (former title: _Mormon's Book_) by Lynn Matthews Anderson is now\n",
      "available through anonymous ftp (see information below). In addition to the\n",
      "change in title, the revised ETR BOM has been shortened by several pages\n",
      "(eliminating many extraneous \"that's\" and \"of's\"), and many (minor) errors\n",
      "have been corrected. This release includes a simplified Joseph Smith Story,\n",
      "testimonies of the three and eight witnesses, and a \"Words-to-Know\"\n",
      "glossary.\n",
      "\n",
      "As with the previous announcement, readers are reminded that this is a\n",
      "not-for-profit endeavor. This is a copyrighted work, but people are welcome\n",
      "to make *verbatim* copies for personal use. People can recuperate the\n",
      "actual costs of printing (paper, copy center charges), but may not charge\n",
      "anything for their time in making copies, or in any way realize a profit\n",
      "from the use of this book. See the permissions notice in the book itself\n",
      "for the precise terms.\n",
      "\n",
      "Negotiations are currently underway with a Mormon publisher vis-a-vis the\n",
      "printing and distribution of bound books. (Sorry, I'm out of the wire-bound\n",
      "\"first editions.\") I will make another announcement about the availability\n",
      "of printed copies once everything has been worked out.\n",
      "\n",
      "FTP information: connect via anonymous ftp to carnot.itc.cmu.edu, then \"cd\n",
      "pub\" (you won't see anything at all until you do).\n",
      "\n",
      "\"The Easy-to-Read Book of Mormon\" is currently available in postscript and\n",
      "RTF (rich text format). (ASCII, LaTeX, and other versions can be made\n",
      "available; contact dba@andrew.cmu.edu for details.) You should be able to\n",
      "print the postscript file on any postscript printer (such as an Apple\n",
      "Laserwriter); let dba know if you have any difficulties. (The postscript in\n",
      "the last release had problems on some printers; this time it should work\n",
      "better.) RTF is a standard document interchange format that can be read in\n",
      "by a number of word processors, including Microsoft Word for both the\n",
      "Macintosh and Windows. If you don't have a postscript printer, you may be\n",
      "able to use the RTF file to print out a copy of the book.\n",
      "\n",
      "-r--r--r--  1 dba                   1984742 Apr 27 13:12 etrbom.ps\n",
      "-r--r--r--  1 dba                   1209071 Apr 27 13:13 etrbom.rtf\n",
      "\n",
      "For more information about how this project came about, please refer to my\n",
      "article in the current issue of _Sunstone_, entitled \"Delighting in\n",
      "Plainness: Issues Surrounding a Simple Modern English Book of Mormon.\"\n",
      "\n",
      "Send all inquiries and comments to:\n",
      "\n",
      "    Lynn Matthews Anderson\n",
      "    5806 Hampton Street\n",
      "    Pittsburgh, PA 15206 \n",
      "----------------------------\n",
      "Ratio R 325.0040915622442\n",
      "Actual:  talk.religion.misc\n",
      "Predicted:  comp.graphics\n",
      "Can anyone provide me a ftp site where I can obtain a online version\n",
      "of the Book of Mormon. Please email the internet address if possible. \n",
      "----------------------------\n",
      "Ratio R 287.306685204773\n",
      "Actual:  alt.atheism\n",
      "Predicted:  talk.religion.misc\n",
      "\n",
      "The 24 children were, of course, killed by a lone gunman in a second story\n",
      "window, who fired eight bullets in the space of two seconds...\n",
      " \n",
      "----------------------------\n"
     ]
    }
   ],
   "source": [
    "def P7():\n",
    "### STUDENT START ###\n",
    "    correct_prob = []\n",
    "    vector_part7 = TfidfVectorizer()\n",
    "    train_matrix_22 = vector_part7.fit_transform(train_data)\n",
    "    train_matrix_23 = vector_part7.transform(dev_data)\n",
    "\n",
    "    model_part7 = LogisticRegression(penalty = 'l2', C = 100, solver = 'liblinear', multi_class = 'ovr')\n",
    "    model_part7.fit(train_matrix_22, train_labels)\n",
    "    pred_p7 = model_part7.predict(train_matrix_23)\n",
    "    f1_p7 = metrics.f1_score(pred_p7, dev_labels, average = 'weighted')\n",
    "\n",
    "    # ratio R: maximum predicted probability / predicted probability of the correct label\n",
    "    # maximum predicted probability\n",
    "    p7_prob = model_part7.predict_proba(train_matrix_23)\n",
    "    max_p7_prob = np.max(p7_prob, axis=1) # returning the max of each row\n",
    "\n",
    "    # predicted prob. of the correct label\n",
    "    for i in range(len(max_p7_prob)):\n",
    "        #correct_prob.append(p7_prob[i, dev_labels[i]])\n",
    "        correct_prob.append(max_p7_prob[i]/p7_prob[i, dev_labels[i]])\n",
    "\n",
    "    # grabbing the indicies of the highest 3 R scores\n",
    "    correct_array = np.array(correct_prob)\n",
    "    highr_3 = (-correct_array).argsort()[:3]\n",
    "\n",
    "    for ii in highr_3:\n",
    "        print(\"Ratio R\", correct_array[ii])\n",
    "        print(\"Actual: \", newsgroups_train.target_names[dev_labels[ii]])\n",
    "        print(\"Predicted: \", newsgroups_train.target_names[pred_p7[ii]])\n",
    "        print(dev_data[ii],\"\\n----------------------------\")\n",
    "\n",
    "## STUDENT END ###\n",
    "P7()"
   ]
  },
  {
   "cell_type": "markdown",
   "metadata": {
    "colab_type": "text",
    "id": "bZmIPwExFsx1"
   },
   "source": [
    "ANSWER: When looking at the top 3 examples with highest R ratio, the top 2 examples both incorrectly predicted \"comp.graphics\". Upon further reviewing the actual examples, these are actually tough! The first example is from \"talk.religion.misc\", but the actual content of the example is very technical description of a religious document. The text contains a lot of technical acronyms and words like [RTF, FTP, print, ASCII] and more. Upon reviewing the 2nd example, it is clear that the word \"FTP\" has a heavy weight that influences the prediction of the algorithm. Perhaps pre-processing the word FTP with different methods before fitting the models could help improve the prediction. "
   ]
  },
  {
   "cell_type": "markdown",
   "metadata": {
    "colab_type": "text",
    "id": "VmsDxtzoFsx1"
   },
   "source": [
    "### Part 8 EXTRA CREDIT:\n",
    "\n",
    "Try implementing one of your ideas based on your error analysis. Use logistic regression as your underlying model."
   ]
  },
  {
   "cell_type": "code",
   "execution_count": null,
   "metadata": {
    "colab": {},
    "colab_type": "code",
    "id": "ZMaqe8c5Fsx2"
   },
   "outputs": [],
   "source": []
  }
 ],
 "metadata": {
  "colab": {
   "collapsed_sections": [],
   "name": "firstname_lastname_p2.ipynb",
   "private_outputs": true,
   "provenance": [
    {
     "file_id": "https://github.com/MIDS-W207/Master/blob/master/Projects/firstname_lastname_p2.ipynb",
     "timestamp": 1559779272103
    }
   ],
   "version": "0.3.2"
  },
  "kernelspec": {
   "display_name": "Python 3",
   "language": "python",
   "name": "python3"
  },
  "language_info": {
   "codemirror_mode": {
    "name": "ipython",
    "version": 3
   },
   "file_extension": ".py",
   "mimetype": "text/x-python",
   "name": "python",
   "nbconvert_exporter": "python",
   "pygments_lexer": "ipython3",
   "version": "3.7.3"
  },
  "toc": {
   "base_numbering": 1,
   "nav_menu": {},
   "number_sections": false,
   "sideBar": true,
   "skip_h1_title": true,
   "title_cell": "Table of Contents",
   "title_sidebar": "Contents",
   "toc_cell": false,
   "toc_position": {},
   "toc_section_display": true,
   "toc_window_display": false
  }
 },
 "nbformat": 4,
 "nbformat_minor": 1
}
